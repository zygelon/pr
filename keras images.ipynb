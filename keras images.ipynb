{
 "cells": [
  {
   "cell_type": "markdown",
   "metadata": {},
   "source": [
    "## Python version"
   ]
  },
  {
   "cell_type": "code",
   "execution_count": 56,
   "metadata": {},
   "outputs": [
    {
     "name": "stdout",
     "output_type": "stream",
     "text": [
      "3.7.7\n"
     ]
    }
   ],
   "source": [
    "from platform import python_version\n",
    "print(python_version())"
   ]
  },
  {
   "cell_type": "code",
   "execution_count": 57,
   "metadata": {},
   "outputs": [],
   "source": [
    "!pip install -q tensorflow==2.0.0-beta1"
   ]
  },
  {
   "cell_type": "markdown",
   "metadata": {},
   "source": [
    "## Import Libraries"
   ]
  },
  {
   "cell_type": "code",
   "execution_count": 58,
   "metadata": {},
   "outputs": [],
   "source": [
    "import tensorflow as tf\n",
    "from tensorflow.keras import layers\n",
    "from tensorflow.keras import preprocessing\n",
    "from tensorflow.keras import models\n",
    "from tensorflow.keras.layers import Conv2D\n",
    "from tensorflow.keras.layers import Dense\n",
    "from tensorflow.keras.layers import Flatten\n",
    "from tensorflow.keras.preprocessing import image\n",
    "from tensorflow.keras.layers import MaxPooling2D\n",
    "from tensorflow.keras.models import Sequential\n",
    "import numpy as np"
   ]
  },
  {
   "cell_type": "markdown",
   "metadata": {},
   "source": [
    "## CNN (Convolutional Neural Network) configuration"
   ]
  },
  {
   "cell_type": "code",
   "execution_count": 59,
   "metadata": {},
   "outputs": [],
   "source": [
    "classifier = Sequential()\n",
    "\n",
    "# Convolution - extracting appropriate features from the input image.\n",
    "# Non-Linearity (RELU) - replacing all negative pixel values in feature map by zero.\n",
    "\n",
    "classifier.add(Conv2D(32, (3, 3), input_shape=(64, 64, 3),\n",
    "               activation='relu'))\n",
    "\n",
    "# Pooling: reduces dimensionality of the feature maps but keeps the most important information.\n",
    "\n",
    "classifier.add(MaxPooling2D(pool_size=(2, 2)))\n",
    "\n",
    "# Adding a second convolutional layer and flattening in order to arrange 3D volumes into a 1D vector.\n",
    "\n",
    "classifier.add(Conv2D(32, (3, 3), activation='relu'))\n",
    "classifier.add(MaxPooling2D(pool_size=(2, 2)))\n",
    "classifier.add(Flatten())\n",
    "\n",
    "# Fully connected layers: ensures connections to all activations in the previous layer.\n",
    "\n",
    "classifier.add(Dense(units=128, activation='relu'))\n",
    "classifier.add(Dense(units=1, activation='sigmoid'))"
   ]
  },
  {
   "cell_type": "markdown",
   "metadata": {},
   "source": [
    "## Classifier Training"
   ]
  },
  {
   "cell_type": "code",
   "execution_count": 60,
   "metadata": {},
   "outputs": [
    {
     "name": "stdout",
     "output_type": "stream",
     "text": [
      "Found 160 images belonging to 2 classes.\n",
      "Found 40 images belonging to 2 classes.\n",
      "Epoch 1/30\n",
      "30/30 [==============================] - 11s 364ms/step - loss: 0.4325 - accuracy: 0.7802 - val_loss: 0.1932 - val_accuracy: 0.9250\n",
      "Epoch 2/30\n",
      "30/30 [==============================] - 10s 317ms/step - loss: 0.2292 - accuracy: 0.9021 - val_loss: 0.7270 - val_accuracy: 0.7750\n",
      "Epoch 3/30\n",
      "30/30 [==============================] - 10s 320ms/step - loss: 0.1704 - accuracy: 0.9396 - val_loss: 0.3958 - val_accuracy: 0.8500\n",
      "Epoch 4/30\n",
      "30/30 [==============================] - 10s 319ms/step - loss: 0.1024 - accuracy: 0.9625 - val_loss: 0.5294 - val_accuracy: 0.8250\n",
      "Epoch 5/30\n",
      "30/30 [==============================] - 10s 326ms/step - loss: 0.0732 - accuracy: 0.9771 - val_loss: 0.3394 - val_accuracy: 0.8500\n",
      "Epoch 6/30\n",
      "30/30 [==============================] - 10s 325ms/step - loss: 0.0528 - accuracy: 0.9823 - val_loss: 0.7055 - val_accuracy: 0.8500\n",
      "Epoch 7/30\n",
      "30/30 [==============================] - 10s 325ms/step - loss: 0.0348 - accuracy: 0.9917 - val_loss: 0.9223 - val_accuracy: 0.8250\n",
      "Epoch 8/30\n",
      "30/30 [==============================] - 10s 323ms/step - loss: 0.0324 - accuracy: 0.9885 - val_loss: 0.9135 - val_accuracy: 0.7750\n",
      "Epoch 9/30\n",
      "30/30 [==============================] - 10s 326ms/step - loss: 0.0303 - accuracy: 0.9917 - val_loss: 0.6440 - val_accuracy: 0.8750\n",
      "Epoch 10/30\n",
      "30/30 [==============================] - 10s 327ms/step - loss: 0.0208 - accuracy: 0.9927 - val_loss: 1.2068 - val_accuracy: 0.7500\n",
      "Epoch 11/30\n",
      "30/30 [==============================] - 10s 324ms/step - loss: 0.0262 - accuracy: 0.9927 - val_loss: 0.5049 - val_accuracy: 0.9250\n",
      "Epoch 12/30\n",
      "30/30 [==============================] - 10s 325ms/step - loss: 0.0089 - accuracy: 0.9969 - val_loss: 0.5661 - val_accuracy: 0.8750\n",
      "Epoch 13/30\n",
      "30/30 [==============================] - 10s 325ms/step - loss: 0.0077 - accuracy: 0.9979 - val_loss: 0.5487 - val_accuracy: 0.8750\n",
      "Epoch 14/30\n",
      "30/30 [==============================] - 10s 322ms/step - loss: 0.0102 - accuracy: 0.9969 - val_loss: 0.6029 - val_accuracy: 0.8750\n",
      "Epoch 15/30\n",
      "30/30 [==============================] - 10s 325ms/step - loss: 0.0211 - accuracy: 0.9896 - val_loss: 0.4698 - val_accuracy: 0.8750\n",
      "Epoch 16/30\n",
      "30/30 [==============================] - 10s 325ms/step - loss: 0.0042 - accuracy: 1.0000 - val_loss: 0.7708 - val_accuracy: 0.8750\n",
      "Epoch 17/30\n",
      "30/30 [==============================] - 10s 325ms/step - loss: 0.0069 - accuracy: 0.9990 - val_loss: 0.4818 - val_accuracy: 0.8750\n",
      "Epoch 18/30\n",
      "30/30 [==============================] - 10s 325ms/step - loss: 0.0103 - accuracy: 0.9969 - val_loss: 0.7501 - val_accuracy: 0.8500\n",
      "Epoch 19/30\n",
      "30/30 [==============================] - 10s 326ms/step - loss: 0.0143 - accuracy: 0.9948 - val_loss: 0.4362 - val_accuracy: 0.8750\n",
      "Epoch 20/30\n",
      "30/30 [==============================] - 10s 325ms/step - loss: 0.0017 - accuracy: 1.0000 - val_loss: 0.4105 - val_accuracy: 0.8750\n",
      "Epoch 21/30\n",
      "30/30 [==============================] - 10s 326ms/step - loss: 8.5398e-04 - accuracy: 1.0000 - val_loss: 0.5269 - val_accuracy: 0.8750\n",
      "Epoch 22/30\n",
      "30/30 [==============================] - 10s 326ms/step - loss: 5.5678e-04 - accuracy: 1.0000 - val_loss: 0.6259 - val_accuracy: 0.8750\n",
      "Epoch 23/30\n",
      "30/30 [==============================] - 10s 325ms/step - loss: 6.6427e-04 - accuracy: 1.0000 - val_loss: 0.7244 - val_accuracy: 0.8750\n",
      "Epoch 24/30\n",
      "30/30 [==============================] - 10s 325ms/step - loss: 4.4135e-04 - accuracy: 1.0000 - val_loss: 0.7511 - val_accuracy: 0.8750\n",
      "Epoch 25/30\n",
      "30/30 [==============================] - 10s 329ms/step - loss: 4.5548e-04 - accuracy: 1.0000 - val_loss: 0.6461 - val_accuracy: 0.8750\n",
      "Epoch 26/30\n",
      "30/30 [==============================] - 10s 326ms/step - loss: 4.1055e-04 - accuracy: 1.0000 - val_loss: 0.6584 - val_accuracy: 0.8750\n",
      "Epoch 27/30\n",
      "30/30 [==============================] - 10s 325ms/step - loss: 9.9405e-04 - accuracy: 1.0000 - val_loss: 0.9937 - val_accuracy: 0.8750\n",
      "Epoch 28/30\n",
      "30/30 [==============================] - 10s 327ms/step - loss: 3.9553e-04 - accuracy: 1.0000 - val_loss: 0.9272 - val_accuracy: 0.8750\n",
      "Epoch 29/30\n",
      "30/30 [==============================] - 10s 323ms/step - loss: 2.9574e-04 - accuracy: 1.0000 - val_loss: 0.6902 - val_accuracy: 0.8750\n",
      "Epoch 30/30\n",
      "30/30 [==============================] - 10s 325ms/step - loss: 2.3720e-04 - accuracy: 1.0000 - val_loss: 0.8960 - val_accuracy: 0.8750\n"
     ]
    }
   ],
   "source": [
    "classifier.compile(optimizer='adam', loss='binary_crossentropy',\n",
    "                   metrics=['accuracy'])\n",
    "from keras.preprocessing.image import ImageDataGenerator\n",
    "train_imagedata = ImageDataGenerator(rescale=1. / 255, shear_range=0.2,\n",
    "        zoom_range=0.2, horizontal_flip=True)\n",
    "test_imagedata = ImageDataGenerator(rescale=1. / 255)\n",
    "training_set = \\\n",
    "    train_imagedata.flow_from_directory('data/training_set'\n",
    "        , target_size=(64, 64), batch_size=32, class_mode='binary')\n",
    "val_set = \\\n",
    "    test_imagedata.flow_from_directory('data/val_set'\n",
    "        , target_size=(64, 64), batch_size=32, class_mode='binary')\n",
    "history=classifier.fit_generator(training_set, steps_per_epoch=30, epochs=30,\n",
    "                         validation_data=val_set,\n",
    "                         validation_steps=30)"
   ]
  },
  {
   "cell_type": "code",
   "execution_count": 20,
   "metadata": {},
   "outputs": [
    {
     "name": "stdout",
     "output_type": "stream",
     "text": [
      "dict_keys(['loss', 'accuracy', 'val_loss', 'val_accuracy'])\n"
     ]
    },
    {
     "data": {
      "image/png": "[encoded data removed]",
      "text/plain": [
       "<Figure size 432x288 with 1 Axes>"
      ]
     },
     "metadata": {
      "needs_background": "light"
     },
     "output_type": "display_data"
    }
   ],
   "source": [
    "# Plot training and validation loss/accuracy\n",
    "import matplotlib.pyplot as plt\n",
    "print(history.history.keys())\n",
    "# Loss\n",
    "plt.plot(history.history['loss'])\n",
    "plt.plot(history.history['val_loss'])\n",
    "plt.title('model loss')\n",
    "plt.ylabel('loss')\n",
    "plt.xlabel('epoch')\n",
    "plt.legend(['loss', 'val_loss'], loc='upper left')\n",
    "plt.show()"
   ]
  },
  {
   "cell_type": "code",
   "execution_count": 21,
   "metadata": {},
   "outputs": [
    {
     "data": {
      "image/png": "[encoded data removed]",
      "text/plain": [
       "<Figure size 432x288 with 1 Axes>"
      ]
     },
     "metadata": {
      "needs_background": "light"
     },
     "output_type": "display_data"
    }
   ],
   "source": [
    "# Accuracy\n",
    "plt.plot(history.history['accuracy'])\n",
    "plt.plot(history.history['val_accuracy'])\n",
    "plt.title('model accuracy')\n",
    "plt.ylabel('accuracy')\n",
    "plt.xlabel('epoch')\n",
    "plt.legend(['acc', 'val_acc'], loc='upper left')\n",
    "plt.show()"
   ]
  },
  {
   "cell_type": "markdown",
   "metadata": {},
   "source": [
    "## Setting up a data augmentation configuration via ImageDataGenerator"
   ]
  },
  {
   "cell_type": "code",
   "execution_count": 22,
   "metadata": {},
   "outputs": [],
   "source": [
    "datagen = ImageDataGenerator(\n",
    "    rotation_range=40,\n",
    "    width_shift_range=0.2,\n",
    "    height_shift_range=0.2,\n",
    "    shear_range=0.2,\n",
    "    zoom_range=0.2,\n",
    "    horizontal_flip=True,\n",
    "    fill_mode='nearest')"
   ]
  },
  {
   "cell_type": "code",
   "execution_count": 23,
   "metadata": {},
   "outputs": [],
   "source": [
    "import os, shutil\n",
    "train_cars_dir = 'data/training_set/cars'"
   ]
  },
  {
   "cell_type": "code",
   "execution_count": 24,
   "metadata": {},
   "outputs": [],
   "source": [
    "fnames = [os.path.join(train_cars_dir, fname) for\n",
    "         fname in os.listdir(train_cars_dir)]"
   ]
  },
  {
   "cell_type": "code",
   "execution_count": 25,
   "metadata": {},
   "outputs": [
    {
     "data": {
      "text/plain": [
       "['data/training_set/cars\\\\all-wheel-drive-299772__340.jpg',\n",
       " 'data/training_set/cars\\\\amg-1880381__340.jpg',\n",
       " 'data/training_set/cars\\\\amsterdam-916561__340.jpg',\n",
       " 'data/training_set/cars\\\\asphalt-3679117__340.jpg',\n",
       " 'data/training_set/cars\\\\aston-2118857__340.jpg',\n",
       " 'data/training_set/cars\\\\aston-2119120__340.jpg',\n",
       " 'data/training_set/cars\\\\audi-1151768__340.jpg',\n",
       " 'data/training_set/cars\\\\audi-1890494__340.jpg',\n",
       " 'data/training_set/cars\\\\audi-798530__340.jpg',\n",
       " 'data/training_set/cars\\\\auto-1327801__340.jpg',\n",
       " 'data/training_set/cars\\\\auto-1399087__340.jpg',\n",
       " 'data/training_set/cars\\\\auto-1515462__340.jpg',\n",
       " 'data/training_set/cars\\\\auto-2179220__340.jpg',\n",
       " 'data/training_set/cars\\\\auto-2823855__340.jpg',\n",
       " 'data/training_set/cars\\\\auto-3302898__340.jpg',\n",
       " 'data/training_set/cars\\\\auto-383897__340.jpg',\n",
       " 'data/training_set/cars\\\\auto-788747__340.jpg',\n",
       " 'data/training_set/cars\\\\auto-racing-558089__340.jpg',\n",
       " 'data/training_set/cars\\\\automobile-1209732__340.jpg',\n",
       " 'data/training_set/cars\\\\automobile-176989__340.jpg',\n",
       " 'data/training_set/cars\\\\automobile-1838782__340.jpg',\n",
       " 'data/training_set/cars\\\\automobile-1850862__340.jpg',\n",
       " 'data/training_set/cars\\\\automobile-1851299__340.jpg',\n",
       " 'data/training_set/cars\\\\automobile-2087749__340.jpg',\n",
       " 'data/training_set/cars\\\\automobile-3729767__340.jpg',\n",
       " 'data/training_set/cars\\\\automotive-1838744__340.jpg',\n",
       " 'data/training_set/cars\\\\automotive-1846910__340.jpg',\n",
       " 'data/training_set/cars\\\\black-hills-hot-rod-3675047__340.jpg',\n",
       " 'data/training_set/cars\\\\blue-2118528__340.jpg',\n",
       " 'data/training_set/cars\\\\bmw-3727172__340.jpg',\n",
       " 'data/training_set/cars\\\\bmw-768688__340.jpg',\n",
       " 'data/training_set/cars\\\\bmw-918407__340.jpg',\n",
       " 'data/training_set/cars\\\\bmw-918408__340.jpg',\n",
       " 'data/training_set/cars\\\\bmw-m4-3169357__340.jpg',\n",
       " 'data/training_set/cars\\\\body-kit-1869892__340.jpg',\n",
       " 'data/training_set/cars\\\\buick-1400243__340.jpg',\n",
       " 'data/training_set/cars\\\\buildings-1851246__340.jpg',\n",
       " 'data/training_set/cars\\\\cabriolet-3708152__340.jpg',\n",
       " 'data/training_set/cars\\\\car-1030820__340.jpg',\n",
       " 'data/training_set/cars\\\\car-1081742__340.jpg',\n",
       " 'data/training_set/cars\\\\car-1093927__340.jpg',\n",
       " 'data/training_set/cars\\\\car-1184860__340.jpg',\n",
       " 'data/training_set/cars\\\\car-1209912__340.jpg',\n",
       " 'data/training_set/cars\\\\car-1245706__340.jpg',\n",
       " 'data/training_set/cars\\\\car-1245780__340.jpg',\n",
       " 'data/training_set/cars\\\\car-1283947__340.jpg',\n",
       " 'data/training_set/cars\\\\car-1376190__340.jpg',\n",
       " 'data/training_set/cars\\\\car-139529__340.jpg',\n",
       " 'data/training_set/cars\\\\car-1506922__340.jpg',\n",
       " 'data/training_set/cars\\\\car-171416__340.jpg',\n",
       " 'data/training_set/cars\\\\car-172905__340.jpg',\n",
       " 'data/training_set/cars\\\\car-1772797__340.jpg',\n",
       " 'data/training_set/cars\\\\car-1835506__340.jpg',\n",
       " 'data/training_set/cars\\\\car-2444514__340.jpg',\n",
       " 'data/training_set/cars\\\\car-2563506__340.jpg',\n",
       " 'data/training_set/cars\\\\car-2617392__340.jpg',\n",
       " 'data/training_set/cars\\\\car-3359874__340.jpg',\n",
       " 'data/training_set/cars\\\\car-3484527__340.jpg',\n",
       " 'data/training_set/cars\\\\car-3628717__340.jpg',\n",
       " 'data/training_set/cars\\\\car-3647352__340.jpg',\n",
       " 'data/training_set/cars\\\\car-3687680__340.jpg',\n",
       " 'data/training_set/cars\\\\car-482683__340.jpg',\n",
       " 'data/training_set/cars\\\\car-49278__340.jpg',\n",
       " 'data/training_set/cars\\\\car-604019__340.jpg',\n",
       " 'data/training_set/cars\\\\car-828860__340.jpg',\n",
       " 'data/training_set/cars\\\\car-931959__340.jpg',\n",
       " 'data/training_set/cars\\\\car-984159__340.jpg',\n",
       " 'data/training_set/cars\\\\car-race-438467__340.jpg',\n",
       " 'data/training_set/cars\\\\car-show-581066__340.jpg',\n",
       " 'data/training_set/cars\\\\car-show-581067__340.jpg',\n",
       " 'data/training_set/cars\\\\car-tire-1031579__340.jpg',\n",
       " 'data/training_set/cars\\\\chevrolet-637778__340.jpg',\n",
       " 'data/training_set/cars\\\\city-1284508__340.jpg',\n",
       " 'data/training_set/cars\\\\classic-691043__340.jpg',\n",
       " 'data/training_set/cars\\\\classic-car-1209334__340.jpg',\n",
       " 'data/training_set/cars\\\\classic-car-1646996__340.jpg',\n",
       " 'data/training_set/cars\\\\classic-car-362176__340.jpg',\n",
       " 'data/training_set/cars\\\\classic-car-574869__340.jpg',\n",
       " 'data/training_set/cars\\\\classic-car-584118__340.jpg',\n",
       " 'data/training_set/cars\\\\classic-car-76423__340.jpg']"
      ]
     },
     "execution_count": 25,
     "metadata": {},
     "output_type": "execute_result"
    }
   ],
   "source": [
    "fnames"
   ]
  },
  {
   "cell_type": "code",
   "execution_count": 26,
   "metadata": {},
   "outputs": [],
   "source": [
    "img_path = fnames[3]"
   ]
  },
  {
   "cell_type": "code",
   "execution_count": 27,
   "metadata": {},
   "outputs": [],
   "source": [
    "img = image.load_img(img_path, target_size=(64, 64))"
   ]
  },
  {
   "cell_type": "code",
   "execution_count": 28,
   "metadata": {},
   "outputs": [
    {
     "data": {
      "image/png": "[encoded data removed]",
      "text/plain": [
       "<PIL.Image.Image image mode=RGB size=64x64 at 0x1FB730DECC8>"
      ]
     },
     "execution_count": 28,
     "metadata": {},
     "output_type": "execute_result"
    }
   ],
   "source": [
    "img"
   ]
  },
  {
   "cell_type": "code",
   "execution_count": 29,
   "metadata": {},
   "outputs": [
    {
     "data": {
      "text/plain": [
       "array([[[[236., 225., 205.],\n",
       "         [216., 204., 178.],\n",
       "         [202., 197., 168.],\n",
       "         ...,\n",
       "         [ 45.,  62.,  56.],\n",
       "         [ 47.,  62.,  55.],\n",
       "         [ 47.,  58.,  52.]],\n",
       "\n",
       "        [[243., 231., 209.],\n",
       "         [225., 215., 190.],\n",
       "         [204., 194., 167.],\n",
       "         ...,\n",
       "         [ 47.,  63.,  60.],\n",
       "         [ 48.,  63.,  58.],\n",
       "         [ 47.,  60.,  53.]],\n",
       "\n",
       "        [[245., 230., 209.],\n",
       "         [247., 239., 218.],\n",
       "         [214., 204., 179.],\n",
       "         ...,\n",
       "         [ 46.,  62.,  61.],\n",
       "         [ 48.,  63.,  60.],\n",
       "         [ 46.,  61.,  56.]],\n",
       "\n",
       "        ...,\n",
       "\n",
       "        [[ 91.,  65.,  42.],\n",
       "         [ 89.,  63.,  40.],\n",
       "         [ 79.,  52.,  31.],\n",
       "         ...,\n",
       "         [122.,  97.,  77.],\n",
       "         [ 51.,  29.,   8.],\n",
       "         [ 49.,  27.,   6.]],\n",
       "\n",
       "        [[ 67.,  41.,  18.],\n",
       "         [ 78.,  52.,  29.],\n",
       "         [ 81.,  54.,  35.],\n",
       "         ...,\n",
       "         [ 65.,  38.,  19.],\n",
       "         [ 61.,  36.,  16.],\n",
       "         [ 64.,  37.,  18.]],\n",
       "\n",
       "        [[ 82.,  55.,  34.],\n",
       "         [ 80.,  54.,  31.],\n",
       "         [101.,  74.,  53.],\n",
       "         ...,\n",
       "         [ 62.,  37.,  17.],\n",
       "         [ 62.,  37.,  15.],\n",
       "         [ 66.,  41.,  21.]]]], dtype=float32)"
      ]
     },
     "execution_count": 29,
     "metadata": {},
     "output_type": "execute_result"
    }
   ],
   "source": [
    "x = image.img_to_array(img)\n",
    "x = x.reshape((1,) + x.shape)\n",
    "x"
   ]
  },
  {
   "cell_type": "code",
   "execution_count": 30,
   "metadata": {},
   "outputs": [
    {
     "data": {
      "image/png": "[encoded data removed]",
      "text/plain": [
       "<Figure size 432x288 with 1 Axes>"
      ]
     },
     "metadata": {
      "needs_background": "light"
     },
     "output_type": "display_data"
    },
    {
     "data": {
      "image/png": "[encoded data removed]",
      "text/plain": [
       "<Figure size 432x288 with 1 Axes>"
      ]
     },
     "metadata": {
      "needs_background": "light"
     },
     "output_type": "display_data"
    },
    {
     "data": {
      "image/png": "[encoded data removed]",
      "text/plain": [
       "<Figure size 432x288 with 1 Axes>"
      ]
     },
     "metadata": {
      "needs_background": "light"
     },
     "output_type": "display_data"
    },
    {
     "data": {
      "image/png": "[encoded data removed]",
      "text/plain": [
       "<Figure size 432x288 with 1 Axes>"
      ]
     },
     "metadata": {
      "needs_background": "light"
     },
     "output_type": "display_data"
    }
   ],
   "source": [
    "# Remixing existing information\n",
    "\n",
    "i = 0\n",
    "for batch in datagen.flow(x, batch_size=1):\n",
    "    plt.figure(i)\n",
    "    imgplot = plt.imshow(image.array_to_img(batch[0]))\n",
    "    i += 1\n",
    "    if i % 4 == 0:\n",
    "        break\n",
    "\n",
    "plt.show()"
   ]
  },
  {
   "cell_type": "markdown",
   "metadata": {},
   "source": [
    "### Trainable attribute set to False in order to freeze the convolutional base - this is done to prevent weights from updating during training"
   ]
  },
  {
   "cell_type": "code",
   "execution_count": 31,
   "metadata": {},
   "outputs": [
    {
     "name": "stdout",
     "output_type": "stream",
     "text": [
      "Downloading data from https://github.com/fchollet/deep-learning-models/releases/download/v0.1/vgg16_weights_tf_dim_ordering_tf_kernels_notop.h5\n",
      "58892288/58889256 [==============================] - 60s 1us/step\n"
     ]
    }
   ],
   "source": [
    "from tensorflow.keras.applications import VGG16\n",
    "\n",
    "conv_base = VGG16(weights='imagenet',\n",
    "                  include_top=False,\n",
    "                  input_shape=(64,64,3))\n",
    "\n",
    "conv_base.trainable=False"
   ]
  },
  {
   "cell_type": "code",
   "execution_count": 32,
   "metadata": {},
   "outputs": [
    {
     "name": "stdout",
     "output_type": "stream",
     "text": [
      "Model: \"vgg16\"\n",
      "_________________________________________________________________\n",
      "Layer (type)                 Output Shape              Param #   \n",
      "=================================================================\n",
      "input_1 (InputLayer)         [(None, 64, 64, 3)]       0         \n",
      "_________________________________________________________________\n",
      "block1_conv1 (Conv2D)        (None, 64, 64, 64)        1792      \n",
      "_________________________________________________________________\n",
      "block1_conv2 (Conv2D)        (None, 64, 64, 64)        36928     \n",
      "_________________________________________________________________\n",
      "block1_pool (MaxPooling2D)   (None, 32, 32, 64)        0         \n",
      "_________________________________________________________________\n",
      "block2_conv1 (Conv2D)        (None, 32, 32, 128)       73856     \n",
      "_________________________________________________________________\n",
      "block2_conv2 (Conv2D)        (None, 32, 32, 128)       147584    \n",
      "_________________________________________________________________\n",
      "block2_pool (MaxPooling2D)   (None, 16, 16, 128)       0         \n",
      "_________________________________________________________________\n",
      "block3_conv1 (Conv2D)        (None, 16, 16, 256)       295168    \n",
      "_________________________________________________________________\n",
      "block3_conv2 (Conv2D)        (None, 16, 16, 256)       590080    \n",
      "_________________________________________________________________\n",
      "block3_conv3 (Conv2D)        (None, 16, 16, 256)       590080    \n",
      "_________________________________________________________________\n",
      "block3_pool (MaxPooling2D)   (None, 8, 8, 256)         0         \n",
      "_________________________________________________________________\n",
      "block4_conv1 (Conv2D)        (None, 8, 8, 512)         1180160   \n",
      "_________________________________________________________________\n",
      "block4_conv2 (Conv2D)        (None, 8, 8, 512)         2359808   \n",
      "_________________________________________________________________\n",
      "block4_conv3 (Conv2D)        (None, 8, 8, 512)         2359808   \n",
      "_________________________________________________________________\n",
      "block4_pool (MaxPooling2D)   (None, 4, 4, 512)         0         \n",
      "_________________________________________________________________\n",
      "block5_conv1 (Conv2D)        (None, 4, 4, 512)         2359808   \n",
      "_________________________________________________________________\n",
      "block5_conv2 (Conv2D)        (None, 4, 4, 512)         2359808   \n",
      "_________________________________________________________________\n",
      "block5_conv3 (Conv2D)        (None, 4, 4, 512)         2359808   \n",
      "_________________________________________________________________\n",
      "block5_pool (MaxPooling2D)   (None, 2, 2, 512)         0         \n",
      "=================================================================\n",
      "Total params: 14,714,688\n",
      "Trainable params: 0\n",
      "Non-trainable params: 14,714,688\n",
      "_________________________________________________________________\n"
     ]
    }
   ],
   "source": [
    "conv_base.summary()"
   ]
  },
  {
   "cell_type": "code",
   "execution_count": 33,
   "metadata": {},
   "outputs": [],
   "source": [
    "model = tf.keras.Sequential()\n",
    "model.add(conv_base)\n",
    "model.add(layers.Flatten())\n",
    "model.add(layers.Dropout(0.5))\n",
    "model.add(layers.Dense(512, activation='relu'))\n",
    "model.add(layers.Dense(1, activation='sigmoid'))"
   ]
  },
  {
   "cell_type": "code",
   "execution_count": 34,
   "metadata": {},
   "outputs": [],
   "source": [
    "from tensorflow.keras import optimizers\n",
    "\n",
    "model.compile(loss='binary_crossentropy',\n",
    "             optimizer=optimizers.RMSprop(lr=1e-4),\n",
    "             metrics=['acc'])"
   ]
  },
  {
   "cell_type": "code",
   "execution_count": 35,
   "metadata": {},
   "outputs": [],
   "source": [
    "train_dir = 'data/training_set'\n",
    "validation_dir = 'data/val_set'"
   ]
  },
  {
   "cell_type": "code",
   "execution_count": 36,
   "metadata": {},
   "outputs": [],
   "source": [
    "train_datagen = ImageDataGenerator(\n",
    "    rescale=1./255,\n",
    "    rotation_range=40,\n",
    "    width_shift_range=0.2,\n",
    "    height_shift_range=0.2,\n",
    "    shear_range=0.2,\n",
    "    zoom_range=0.2,\n",
    "    horizontal_flip=True,)\n",
    "\n",
    "val_datagen = ImageDataGenerator(rescale=1./255)"
   ]
  },
  {
   "cell_type": "code",
   "execution_count": 37,
   "metadata": {},
   "outputs": [
    {
     "name": "stdout",
     "output_type": "stream",
     "text": [
      "Found 160 images belonging to 2 classes.\n",
      "Found 40 images belonging to 2 classes.\n"
     ]
    }
   ],
   "source": [
    "train_generator = train_datagen.flow_from_directory(\n",
    "    train_dir,\n",
    "    target_size=(64, 64),\n",
    "    batch_size=32,\n",
    "    class_mode='binary')\n",
    "\n",
    "validation_generator = val_datagen.flow_from_directory(\n",
    "    validation_dir,\n",
    "    target_size=(64, 64),\n",
    "    batch_size=32,\n",
    "    class_mode='binary')"
   ]
  },
  {
   "cell_type": "code",
   "execution_count": 38,
   "metadata": {},
   "outputs": [
    {
     "name": "stdout",
     "output_type": "stream",
     "text": [
      "Epoch 1/30\n",
      "30/30 [==============================] - 15s 489ms/step - loss: 0.4312 - acc: 0.8062 - val_loss: 0.5009 - val_acc: 0.7750\n",
      "Epoch 2/30\n",
      "30/30 [==============================] - 13s 450ms/step - loss: 0.3139 - acc: 0.8698 - val_loss: 0.4812 - val_acc: 0.8250\n",
      "Epoch 3/30\n",
      "30/30 [==============================] - 13s 450ms/step - loss: 0.2709 - acc: 0.8969 - val_loss: 0.4262 - val_acc: 0.8250\n",
      "Epoch 4/30\n",
      "30/30 [==============================] - 13s 446ms/step - loss: 0.2444 - acc: 0.8979 - val_loss: 0.4045 - val_acc: 0.8250\n",
      "Epoch 5/30\n",
      "30/30 [==============================] - 13s 443ms/step - loss: 0.2157 - acc: 0.9115 - val_loss: 0.3451 - val_acc: 0.8000\n",
      "Epoch 6/30\n",
      "30/30 [==============================] - 13s 449ms/step - loss: 0.2009 - acc: 0.9198 - val_loss: 0.3495 - val_acc: 0.8000\n",
      "Epoch 7/30\n",
      "30/30 [==============================] - 14s 450ms/step - loss: 0.2093 - acc: 0.9198 - val_loss: 0.3373 - val_acc: 0.8500\n",
      "Epoch 8/30\n",
      "30/30 [==============================] - 14s 457ms/step - loss: 0.1688 - acc: 0.9354 - val_loss: 0.3212 - val_acc: 0.8250\n",
      "Epoch 9/30\n",
      "30/30 [==============================] - 13s 450ms/step - loss: 0.1732 - acc: 0.9271 - val_loss: 0.2731 - val_acc: 0.8750\n",
      "Epoch 10/30\n",
      "30/30 [==============================] - 13s 448ms/step - loss: 0.1764 - acc: 0.9229 - val_loss: 0.2843 - val_acc: 0.9000\n",
      "Epoch 11/30\n",
      "30/30 [==============================] - 13s 443ms/step - loss: 0.1653 - acc: 0.9333 - val_loss: 0.3164 - val_acc: 0.8750\n",
      "Epoch 12/30\n",
      "30/30 [==============================] - 14s 452ms/step - loss: 0.1469 - acc: 0.9406 - val_loss: 0.3145 - val_acc: 0.8750\n",
      "Epoch 13/30\n",
      "30/30 [==============================] - 14s 456ms/step - loss: 0.1488 - acc: 0.9448 - val_loss: 0.2635 - val_acc: 0.9000\n",
      "Epoch 14/30\n",
      "30/30 [==============================] - 14s 456ms/step - loss: 0.1559 - acc: 0.9427 - val_loss: 0.3007 - val_acc: 0.8750\n",
      "Epoch 15/30\n",
      "30/30 [==============================] - 14s 452ms/step - loss: 0.1421 - acc: 0.9427 - val_loss: 0.2867 - val_acc: 0.9000\n",
      "Epoch 16/30\n",
      "30/30 [==============================] - 14s 454ms/step - loss: 0.1445 - acc: 0.9448 - val_loss: 0.2609 - val_acc: 0.9000\n",
      "Epoch 17/30\n",
      "30/30 [==============================] - 14s 454ms/step - loss: 0.1507 - acc: 0.9427 - val_loss: 0.2640 - val_acc: 0.8750\n",
      "Epoch 18/30\n",
      "30/30 [==============================] - 13s 441ms/step - loss: 0.1301 - acc: 0.9479 - val_loss: 0.2626 - val_acc: 0.8750\n",
      "Epoch 19/30\n",
      "30/30 [==============================] - 13s 448ms/step - loss: 0.1263 - acc: 0.9531 - val_loss: 0.2743 - val_acc: 0.8750\n",
      "Epoch 20/30\n",
      "30/30 [==============================] - 14s 455ms/step - loss: 0.1466 - acc: 0.9323 - val_loss: 0.2359 - val_acc: 0.9000\n",
      "Epoch 21/30\n",
      "30/30 [==============================] - 13s 445ms/step - loss: 0.1229 - acc: 0.9510 - val_loss: 0.2848 - val_acc: 0.8750\n",
      "Epoch 22/30\n",
      "30/30 [==============================] - 13s 439ms/step - loss: 0.1164 - acc: 0.9563 - val_loss: 0.2416 - val_acc: 0.9000\n",
      "Epoch 23/30\n",
      "30/30 [==============================] - 13s 447ms/step - loss: 0.1478 - acc: 0.9438 - val_loss: 0.2955 - val_acc: 0.9000\n",
      "Epoch 24/30\n",
      "30/30 [==============================] - 14s 459ms/step - loss: 0.1340 - acc: 0.9417 - val_loss: 0.2616 - val_acc: 0.9000\n",
      "Epoch 25/30\n",
      "30/30 [==============================] - 14s 450ms/step - loss: 0.1143 - acc: 0.9500 - val_loss: 0.2716 - val_acc: 0.9000\n",
      "Epoch 26/30\n",
      "30/30 [==============================] - 13s 445ms/step - loss: 0.1160 - acc: 0.9542 - val_loss: 0.2354 - val_acc: 0.9000\n",
      "Epoch 27/30\n",
      "30/30 [==============================] - 14s 454ms/step - loss: 0.1137 - acc: 0.9417 - val_loss: 0.2221 - val_acc: 0.9000\n",
      "Epoch 28/30\n",
      "30/30 [==============================] - 13s 437ms/step - loss: 0.1212 - acc: 0.9490 - val_loss: 0.2395 - val_acc: 0.9250\n",
      "Epoch 29/30\n",
      "30/30 [==============================] - 13s 448ms/step - loss: 0.1230 - acc: 0.9521 - val_loss: 0.2631 - val_acc: 0.9000\n",
      "Epoch 30/30\n",
      "30/30 [==============================] - 13s 445ms/step - loss: 0.1107 - acc: 0.9573 - val_loss: 0.2426 - val_acc: 0.9250\n"
     ]
    }
   ],
   "source": [
    "history = model.fit_generator(\n",
    "    train_generator,\n",
    "    steps_per_epoch=30,\n",
    "    epochs=30,\n",
    "    validation_data=validation_generator,\n",
    "    validation_steps=30)"
   ]
  },
  {
   "cell_type": "code",
   "execution_count": 39,
   "metadata": {},
   "outputs": [
    {
     "data": {
      "image/png": "[encoded data removed]",
      "text/plain": [
       "<Figure size 432x288 with 1 Axes>"
      ]
     },
     "metadata": {
      "needs_background": "light"
     },
     "output_type": "display_data"
    }
   ],
   "source": [
    "# Loss\n",
    "plt.plot(history.history['loss'])\n",
    "plt.plot(history.history['val_loss'])\n",
    "plt.title('model loss')\n",
    "plt.ylabel('loss')\n",
    "plt.xlabel('epoch')\n",
    "plt.legend(['loss', 'val_loss'], loc='upper left')\n",
    "plt.show()"
   ]
  },
  {
   "cell_type": "code",
   "execution_count": 40,
   "metadata": {},
   "outputs": [
    {
     "data": {
      "image/png": "[encoded data removed]",
      "text/plain": [
       "<Figure size 432x288 with 1 Axes>"
      ]
     },
     "metadata": {
      "needs_background": "light"
     },
     "output_type": "display_data"
    }
   ],
   "source": [
    "# Accuracy\n",
    "plt.plot(history.history['acc'])\n",
    "plt.plot(history.history['val_acc'])\n",
    "plt.title('model accuracy')\n",
    "plt.ylabel('accuracy')\n",
    "plt.xlabel('epoch')\n",
    "plt.legend(['acc', 'val_acc'], loc='upper left')\n",
    "plt.show()"
   ]
  },
  {
   "cell_type": "markdown",
   "metadata": {},
   "source": [
    "## Generate predictions"
   ]
  },
  {
   "cell_type": "code",
   "execution_count": 41,
   "metadata": {},
   "outputs": [
    {
     "data": {
      "text/plain": [
       "array([[1.]], dtype=float32)"
      ]
     },
     "execution_count": 41,
     "metadata": {},
     "output_type": "execute_result"
    }
   ],
   "source": [
    "# car = 0, plane = 1\n",
    "\n",
    "# image = plane\n",
    "\n",
    "test_image = \\\n",
    "    image.load_img('data/test/photo-1430402393301-f3b159a7a65a.jpg'\n",
    "                   , target_size=(64, 64))\n",
    "test_image = image.img_to_array(test_image)\n",
    "test_image = np.expand_dims(test_image, axis=0)\n",
    "result = classifier.predict(test_image)\n",
    "training_set.class_indices\n",
    "result"
   ]
  },
  {
   "cell_type": "code",
   "execution_count": 42,
   "metadata": {},
   "outputs": [
    {
     "data": {
      "text/plain": [
       "array([[0.]], dtype=float32)"
      ]
     },
     "execution_count": 42,
     "metadata": {},
     "output_type": "execute_result"
    }
   ],
   "source": [
    "# car = 0, plane = 1\n",
    "\n",
    "# image = car\n",
    "\n",
    "test_image = \\\n",
    "    image.load_img('data/test/photo-1542362567-b07e54358753.jpg'\n",
    "                   , target_size=(64, 64))\n",
    "test_image = image.img_to_array(test_image)\n",
    "test_image = np.expand_dims(test_image, axis=0)\n",
    "result = classifier.predict(test_image)\n",
    "training_set.class_indices\n",
    "result"
   ]
  },
  {
   "cell_type": "code",
   "execution_count": 43,
   "metadata": {},
   "outputs": [
    {
     "data": {
      "text/plain": [
       "array([[0.]], dtype=float32)"
      ]
     },
     "execution_count": 43,
     "metadata": {},
     "output_type": "execute_result"
    }
   ],
   "source": [
    "# car = 0, plane = 1\n",
    "\n",
    "# image = car\n",
    "\n",
    "test_image = \\\n",
    "    image.load_img('data/test/photo-1541443131876-44b03de101c5.jpg'\n",
    "                   , target_size=(64, 64))\n",
    "test_image = image.img_to_array(test_image)\n",
    "test_image = np.expand_dims(test_image, axis=0)\n",
    "result = classifier.predict(test_image)\n",
    "training_set.class_indices\n",
    "result"
   ]
  },
  {
   "cell_type": "code",
   "execution_count": 44,
   "metadata": {},
   "outputs": [
    {
     "data": {
      "text/plain": [
       "array([[0.]], dtype=float32)"
      ]
     },
     "execution_count": 44,
     "metadata": {},
     "output_type": "execute_result"
    }
   ],
   "source": [
    "# car = 0, plane = 1\n",
    "\n",
    "# image = car\n",
    "\n",
    "test_image = \\\n",
    "    image.load_img('data/test/photo-1532974297617-c0f05fe48bff.jpg'\n",
    "                   , target_size=(64, 64))\n",
    "test_image = image.img_to_array(test_image)\n",
    "test_image = np.expand_dims(test_image, axis=0)\n",
    "result = classifier.predict(test_image)\n",
    "training_set.class_indices\n",
    "result"
   ]
  },
  {
   "cell_type": "code",
   "execution_count": 45,
   "metadata": {},
   "outputs": [
    {
     "data": {
      "text/plain": [
       "array([[0.]], dtype=float32)"
      ]
     },
     "execution_count": 45,
     "metadata": {},
     "output_type": "execute_result"
    }
   ],
   "source": [
    "# car = 0, plane = 1\n",
    "\n",
    "# image = car\n",
    "\n",
    "test_image = \\\n",
    "    image.load_img('data/test/photo-1520340356584-f9917d1eea6f.jpg'\n",
    "                   , target_size=(64, 64))\n",
    "test_image = image.img_to_array(test_image)\n",
    "test_image = np.expand_dims(test_image, axis=0)\n",
    "result = classifier.predict(test_image)\n",
    "training_set.class_indices\n",
    "result"
   ]
  },
  {
   "cell_type": "code",
   "execution_count": 46,
   "metadata": {},
   "outputs": [
    {
     "data": {
      "text/plain": [
       "array([[0.]], dtype=float32)"
      ]
     },
     "execution_count": 46,
     "metadata": {},
     "output_type": "execute_result"
    }
   ],
   "source": [
    "# car = 0, plane = 1\n",
    "\n",
    "# image = car\n",
    "\n",
    "test_image = \\\n",
    "    image.load_img('data/test/photo-1519641471654-76ce0107ad1b.jpg'\n",
    "                   , target_size=(64, 64))\n",
    "test_image = image.img_to_array(test_image)\n",
    "test_image = np.expand_dims(test_image, axis=0)\n",
    "result = classifier.predict(test_image)\n",
    "training_set.class_indices\n",
    "result"
   ]
  },
  {
   "cell_type": "code",
   "execution_count": 47,
   "metadata": {},
   "outputs": [
    {
     "data": {
      "text/plain": [
       "array([[1.]], dtype=float32)"
      ]
     },
     "execution_count": 47,
     "metadata": {},
     "output_type": "execute_result"
    }
   ],
   "source": [
    "# car = 0, plane = 1\n",
    "\n",
    "# image = plane\n",
    "\n",
    "test_image = \\\n",
    "    image.load_img('data/test/photo-1512289984044-071903207f5e.jpg'\n",
    "                   , target_size=(64, 64))\n",
    "test_image = image.img_to_array(test_image)\n",
    "test_image = np.expand_dims(test_image, axis=0)\n",
    "result = classifier.predict(test_image)\n",
    "training_set.class_indices\n",
    "result"
   ]
  },
  {
   "cell_type": "code",
   "execution_count": 48,
   "metadata": {},
   "outputs": [
    {
     "data": {
      "text/plain": [
       "array([[0.]], dtype=float32)"
      ]
     },
     "execution_count": 48,
     "metadata": {},
     "output_type": "execute_result"
    }
   ],
   "source": [
    "# car = 0, plane = 1\n",
    "\n",
    "# image = car\n",
    "\n",
    "test_image = \\\n",
    "    image.load_img('data/test/photo-1511919884226-fd3cad34687c.jpg'\n",
    "                   , target_size=(64, 64))\n",
    "test_image = image.img_to_array(test_image)\n",
    "test_image = np.expand_dims(test_image, axis=0)\n",
    "result = classifier.predict(test_image)\n",
    "training_set.class_indices\n",
    "result"
   ]
  },
  {
   "cell_type": "code",
   "execution_count": 49,
   "metadata": {},
   "outputs": [
    {
     "data": {
      "text/plain": [
       "array([[0.]], dtype=float32)"
      ]
     },
     "execution_count": 49,
     "metadata": {},
     "output_type": "execute_result"
    }
   ],
   "source": [
    "# car = 0, plane = 1\n",
    "\n",
    "# image = car\n",
    "\n",
    "test_image = \\\n",
    "    image.load_img('data/test/photo-1502877338535-766e1452684a.jpg'\n",
    "                   , target_size=(64, 64))\n",
    "test_image = image.img_to_array(test_image)\n",
    "test_image = np.expand_dims(test_image, axis=0)\n",
    "result = classifier.predict(test_image)\n",
    "training_set.class_indices\n",
    "result"
   ]
  },
  {
   "cell_type": "code",
   "execution_count": 50,
   "metadata": {},
   "outputs": [
    {
     "data": {
      "text/plain": [
       "array([[1.]], dtype=float32)"
      ]
     },
     "execution_count": 50,
     "metadata": {},
     "output_type": "execute_result"
    }
   ],
   "source": [
    "# car = 0, plane = 1\n",
    "\n",
    "# image = plane\n",
    "\n",
    "test_image = \\\n",
    "    image.load_img('data/test/photo-1498423281417-af8aff4579dc.jpg'\n",
    "                   , target_size=(64, 64))\n",
    "test_image = image.img_to_array(test_image)\n",
    "test_image = np.expand_dims(test_image, axis=0)\n",
    "result = classifier.predict(test_image)\n",
    "training_set.class_indices\n",
    "result"
   ]
  },
  {
   "cell_type": "code",
   "execution_count": 51,
   "metadata": {},
   "outputs": [
    {
     "data": {
      "text/plain": [
       "array([[0.]], dtype=float32)"
      ]
     },
     "execution_count": 51,
     "metadata": {},
     "output_type": "execute_result"
    }
   ],
   "source": [
    "# car = 0, plane = 1\n",
    "\n",
    "# image = car\n",
    "\n",
    "test_image = \\\n",
    "    image.load_img('data/test/photo-1494905998402-395d579af36f.jpg'\n",
    "                   , target_size=(64, 64))\n",
    "test_image = image.img_to_array(test_image)\n",
    "test_image = np.expand_dims(test_image, axis=0)\n",
    "result = classifier.predict(test_image)\n",
    "training_set.class_indices\n",
    "result"
   ]
  },
  {
   "cell_type": "code",
   "execution_count": 52,
   "metadata": {},
   "outputs": [
    {
     "data": {
      "text/plain": [
       "array([[0.]], dtype=float32)"
      ]
     },
     "execution_count": 52,
     "metadata": {},
     "output_type": "execute_result"
    }
   ],
   "source": [
    "# car = 0, plane = 1\n",
    "\n",
    "# image = car\n",
    "\n",
    "test_image = \\\n",
    "    image.load_img('data/test/photo-1489824904134-891ab64532f1.jpg'\n",
    "                   , target_size=(64, 64))\n",
    "test_image = image.img_to_array(test_image)\n",
    "test_image = np.expand_dims(test_image, axis=0)\n",
    "result = classifier.predict(test_image)\n",
    "training_set.class_indices\n",
    "result"
   ]
  },
  {
   "cell_type": "code",
   "execution_count": 53,
   "metadata": {},
   "outputs": [
    {
     "data": {
      "text/plain": [
       "array([[1.]], dtype=float32)"
      ]
     },
     "execution_count": 53,
     "metadata": {},
     "output_type": "execute_result"
    }
   ],
   "source": [
    "# car = 0, plane = 1\n",
    "\n",
    "# image = plane\n",
    "\n",
    "test_image = \\\n",
    "    image.load_img('data/test/photo-1483375801503-374c5f660610.jpg'\n",
    "                   , target_size=(64, 64))\n",
    "test_image = image.img_to_array(test_image)\n",
    "test_image = np.expand_dims(test_image, axis=0)\n",
    "result = classifier.predict(test_image)\n",
    "training_set.class_indices\n",
    "result"
   ]
  },
  {
   "cell_type": "code",
   "execution_count": 54,
   "metadata": {},
   "outputs": [
    {
     "data": {
      "text/plain": [
       "array([[1.]], dtype=float32)"
      ]
     },
     "execution_count": 54,
     "metadata": {},
     "output_type": "execute_result"
    }
   ],
   "source": [
    "# car = 0, plane = 1\n",
    "\n",
    "# image = plane\n",
    "\n",
    "test_image = \\\n",
    "    image.load_img('data/test/photo-1475088092121-b7d3cd6e1482.jpg'\n",
    "                   , target_size=(64, 64))\n",
    "test_image = image.img_to_array(test_image)\n",
    "test_image = np.expand_dims(test_image, axis=0)\n",
    "result = classifier.predict(test_image)\n",
    "training_set.class_indices\n",
    "result"
   ]
  },
  {
   "cell_type": "code",
   "execution_count": 55,
   "metadata": {},
   "outputs": [
    {
     "data": {
      "text/plain": [
       "array([[1.]], dtype=float32)"
      ]
     },
     "execution_count": 55,
     "metadata": {},
     "output_type": "execute_result"
    }
   ],
   "source": [
    "# car = 0, plane = 1\n",
    "\n",
    "# image = plane\n",
    "\n",
    "test_image = \\\n",
    "    image.load_img('data/test/photo-1473862170180-84427c485aca.jpg'\n",
    "                   , target_size=(64, 64))\n",
    "test_image = image.img_to_array(test_image)\n",
    "test_image = np.expand_dims(test_image, axis=0)\n",
    "result = classifier.predict(test_image)\n",
    "training_set.class_indices\n",
    "result"
   ]
  },
  {
   "cell_type": "code",
   "execution_count": null,
   "metadata": {},
   "outputs": [],
   "source": []
  }
 ],
 "metadata": {
  "kernelspec": {
   "display_name": "Python 3",
   "language": "python",
   "name": "python3"
  },
  "language_info": {
   "codemirror_mode": {
    "name": "ipython",
    "version": 3
   },
   "file_extension": ".py",
   "mimetype": "text/x-python",
   "name": "python",
   "nbconvert_exporter": "python",
   "pygments_lexer": "ipython3",
   "version": "3.7.7"
  }
 },
 "nbformat": 4,
 "nbformat_minor": 2
}

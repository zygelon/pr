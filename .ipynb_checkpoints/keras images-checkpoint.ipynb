{
 "cells": [
  {
   "cell_type": "markdown",
   "metadata": {},
   "source": [
    "## Python version"
   ]
  },
  {
   "cell_type": "code",
   "execution_count": 1,
   "metadata": {},
   "outputs": [
    {
     "name": "stdout",
     "output_type": "stream",
     "text": [
      "3.7.7\n"
     ]
    }
   ],
   "source": [
    "from platform import python_version\n",
    "print(python_version())"
   ]
  },
  {
   "cell_type": "code",
   "execution_count": 3,
   "metadata": {},
   "outputs": [],
   "source": [
    "!pip install -q tensorflow==2.0.0-beta1"
   ]
  },
  {
   "cell_type": "markdown",
   "metadata": {},
   "source": [
    "## Import Libraries"
   ]
  },
  {
   "cell_type": "code",
   "execution_count": 4,
   "metadata": {},
   "outputs": [
    {
     "name": "stderr",
     "output_type": "stream",
     "text": [
      "C:\\ProgramData\\Anaconda3\\lib\\site-packages\\tensorflow\\python\\framework\\dtypes.py:516: FutureWarning: Passing (type, 1) or '1type' as a synonym of type is deprecated; in a future version of numpy, it will be understood as (type, (1,)) / '(1,)type'.\n",
      "  _np_qint8 = np.dtype([(\"qint8\", np.int8, 1)])\n",
      "C:\\ProgramData\\Anaconda3\\lib\\site-packages\\tensorflow\\python\\framework\\dtypes.py:517: FutureWarning: Passing (type, 1) or '1type' as a synonym of type is deprecated; in a future version of numpy, it will be understood as (type, (1,)) / '(1,)type'.\n",
      "  _np_quint8 = np.dtype([(\"quint8\", np.uint8, 1)])\n",
      "C:\\ProgramData\\Anaconda3\\lib\\site-packages\\tensorflow\\python\\framework\\dtypes.py:518: FutureWarning: Passing (type, 1) or '1type' as a synonym of type is deprecated; in a future version of numpy, it will be understood as (type, (1,)) / '(1,)type'.\n",
      "  _np_qint16 = np.dtype([(\"qint16\", np.int16, 1)])\n",
      "C:\\ProgramData\\Anaconda3\\lib\\site-packages\\tensorflow\\python\\framework\\dtypes.py:519: FutureWarning: Passing (type, 1) or '1type' as a synonym of type is deprecated; in a future version of numpy, it will be understood as (type, (1,)) / '(1,)type'.\n",
      "  _np_quint16 = np.dtype([(\"quint16\", np.uint16, 1)])\n",
      "C:\\ProgramData\\Anaconda3\\lib\\site-packages\\tensorflow\\python\\framework\\dtypes.py:520: FutureWarning: Passing (type, 1) or '1type' as a synonym of type is deprecated; in a future version of numpy, it will be understood as (type, (1,)) / '(1,)type'.\n",
      "  _np_qint32 = np.dtype([(\"qint32\", np.int32, 1)])\n",
      "C:\\ProgramData\\Anaconda3\\lib\\site-packages\\tensorflow\\python\\framework\\dtypes.py:525: FutureWarning: Passing (type, 1) or '1type' as a synonym of type is deprecated; in a future version of numpy, it will be understood as (type, (1,)) / '(1,)type'.\n",
      "  np_resource = np.dtype([(\"resource\", np.ubyte, 1)])\n",
      "C:\\ProgramData\\Anaconda3\\lib\\site-packages\\tensorboard\\compat\\tensorflow_stub\\dtypes.py:541: FutureWarning: Passing (type, 1) or '1type' as a synonym of type is deprecated; in a future version of numpy, it will be understood as (type, (1,)) / '(1,)type'.\n",
      "  _np_qint8 = np.dtype([(\"qint8\", np.int8, 1)])\n",
      "C:\\ProgramData\\Anaconda3\\lib\\site-packages\\tensorboard\\compat\\tensorflow_stub\\dtypes.py:542: FutureWarning: Passing (type, 1) or '1type' as a synonym of type is deprecated; in a future version of numpy, it will be understood as (type, (1,)) / '(1,)type'.\n",
      "  _np_quint8 = np.dtype([(\"quint8\", np.uint8, 1)])\n",
      "C:\\ProgramData\\Anaconda3\\lib\\site-packages\\tensorboard\\compat\\tensorflow_stub\\dtypes.py:543: FutureWarning: Passing (type, 1) or '1type' as a synonym of type is deprecated; in a future version of numpy, it will be understood as (type, (1,)) / '(1,)type'.\n",
      "  _np_qint16 = np.dtype([(\"qint16\", np.int16, 1)])\n",
      "C:\\ProgramData\\Anaconda3\\lib\\site-packages\\tensorboard\\compat\\tensorflow_stub\\dtypes.py:544: FutureWarning: Passing (type, 1) or '1type' as a synonym of type is deprecated; in a future version of numpy, it will be understood as (type, (1,)) / '(1,)type'.\n",
      "  _np_quint16 = np.dtype([(\"quint16\", np.uint16, 1)])\n",
      "C:\\ProgramData\\Anaconda3\\lib\\site-packages\\tensorboard\\compat\\tensorflow_stub\\dtypes.py:545: FutureWarning: Passing (type, 1) or '1type' as a synonym of type is deprecated; in a future version of numpy, it will be understood as (type, (1,)) / '(1,)type'.\n",
      "  _np_qint32 = np.dtype([(\"qint32\", np.int32, 1)])\n",
      "C:\\ProgramData\\Anaconda3\\lib\\site-packages\\tensorboard\\compat\\tensorflow_stub\\dtypes.py:550: FutureWarning: Passing (type, 1) or '1type' as a synonym of type is deprecated; in a future version of numpy, it will be understood as (type, (1,)) / '(1,)type'.\n",
      "  np_resource = np.dtype([(\"resource\", np.ubyte, 1)])\n"
     ]
    }
   ],
   "source": [
    "import tensorflow as tf\n",
    "from tensorflow.keras import layers\n",
    "from tensorflow.keras import preprocessing\n",
    "from tensorflow.keras import models\n",
    "from tensorflow.keras.layers import Conv2D\n",
    "from tensorflow.keras.layers import Dense\n",
    "from tensorflow.keras.layers import Flatten\n",
    "from tensorflow.keras.preprocessing import image\n",
    "from tensorflow.keras.layers import MaxPooling2D\n",
    "from tensorflow.keras.models import Sequential\n",
    "import numpy as np"
   ]
  },
  {
   "cell_type": "markdown",
   "metadata": {},
   "source": [
    "## CNN (Convolutional Neural Network) configuration"
   ]
  },
  {
   "cell_type": "code",
   "execution_count": 5,
   "metadata": {},
   "outputs": [],
   "source": [
    "classifier = Sequential()\n",
    "\n",
    "# Convolution - extracting appropriate features from the input image.\n",
    "# Non-Linearity (RELU) - replacing all negative pixel values in feature map by zero.\n",
    "\n",
    "classifier.add(Conv2D(32, (3, 3), input_shape=(64, 64, 3),\n",
    "               activation='relu'))\n",
    "\n",
    "# Pooling: reduces dimensionality of the feature maps but keeps the most important information.\n",
    "\n",
    "classifier.add(MaxPooling2D(pool_size=(2, 2)))\n",
    "\n",
    "# Adding a second convolutional layer and flattening in order to arrange 3D volumes into a 1D vector.\n",
    "\n",
    "classifier.add(Conv2D(32, (3, 3), activation='relu'))\n",
    "classifier.add(MaxPooling2D(pool_size=(2, 2)))\n",
    "classifier.add(Flatten())\n",
    "\n",
    "# Fully connected layers: ensures connections to all activations in the previous layer.\n",
    "\n",
    "classifier.add(Dense(units=128, activation='relu'))\n",
    "classifier.add(Dense(units=1, activation='sigmoid'))"
   ]
  },
  {
   "cell_type": "markdown",
   "metadata": {},
   "source": [
    "## Classifier Training"
   ]
  },
  {
   "cell_type": "code",
   "execution_count": 6,
   "metadata": {},
   "outputs": [
    {
     "ename": "ModuleNotFoundError",
     "evalue": "No module named 'keras'",
     "output_type": "error",
     "traceback": [
      "\u001b[1;31m---------------------------------------------------------------------------\u001b[0m",
      "\u001b[1;31mModuleNotFoundError\u001b[0m                       Traceback (most recent call last)",
      "\u001b[1;32m<ipython-input-6-3b8089dae989>\u001b[0m in \u001b[0;36m<module>\u001b[1;34m\u001b[0m\n\u001b[0;32m      1\u001b[0m classifier.compile(optimizer='adam', loss='binary_crossentropy',\n\u001b[0;32m      2\u001b[0m                    metrics=['accuracy'])\n\u001b[1;32m----> 3\u001b[1;33m \u001b[1;32mfrom\u001b[0m \u001b[0mkeras\u001b[0m\u001b[1;33m.\u001b[0m\u001b[0mpreprocessing\u001b[0m\u001b[1;33m.\u001b[0m\u001b[0mimage\u001b[0m \u001b[1;32mimport\u001b[0m \u001b[0mImageDataGenerator\u001b[0m\u001b[1;33m\u001b[0m\u001b[1;33m\u001b[0m\u001b[0m\n\u001b[0m\u001b[0;32m      4\u001b[0m train_imagedata = ImageDataGenerator(rescale=1. / 255, shear_range=0.2,\n\u001b[0;32m      5\u001b[0m         zoom_range=0.2, horizontal_flip=True)\n",
      "\u001b[1;31mModuleNotFoundError\u001b[0m: No module named 'keras'"
     ]
    }
   ],
   "source": [
    "classifier.compile(optimizer='adam', loss='binary_crossentropy',\n",
    "                   metrics=['accuracy'])\n",
    "from keras.preprocessing.image import ImageDataGenerator\n",
    "train_imagedata = ImageDataGenerator(rescale=1. / 255, shear_range=0.2,\n",
    "        zoom_range=0.2, horizontal_flip=True)\n",
    "test_imagedata = ImageDataGenerator(rescale=1. / 255)\n",
    "training_set = \\\n",
    "    train_imagedata.flow_from_directory('data/training_set'\n",
    "        , target_size=(64, 64), batch_size=32, class_mode='binary')\n",
    "val_set = \\\n",
    "    test_imagedata.flow_from_directory('data/val_set'\n",
    "        , target_size=(64, 64), batch_size=32, class_mode='binary')\n",
    "history=classifier.fit_generator(training_set, steps_per_epoch=30, epochs=30,\n",
    "                         validation_data=val_set,\n",
    "                         validation_steps=30)"
   ]
  },
  {
   "cell_type": "code",
   "execution_count": 6,
   "metadata": {},
   "outputs": [
    {
     "name": "stdout",
     "output_type": "stream",
     "text": [
      "dict_keys(['loss', 'accuracy', 'val_loss', 'val_accuracy'])\n"
     ]
    },
    {
     "data": {
      "image/png": "[encoded data removed]",
      "text/plain": [
       "<Figure size 432x288 with 1 Axes>"
      ]
     },
     "metadata": {},
     "output_type": "display_data"
    }
   ],
   "source": [
    "# Plot training and validation loss/accuracy\n",
    "import matplotlib.pyplot as plt\n",
    "print(history.history.keys())\n",
    "# Loss\n",
    "plt.plot(history.history['loss'])\n",
    "plt.plot(history.history['val_loss'])\n",
    "plt.title('model loss')\n",
    "plt.ylabel('loss')\n",
    "plt.xlabel('epoch')\n",
    "plt.legend(['loss', 'val_loss'], loc='upper left')\n",
    "plt.show()"
   ]
  },
  {
   "cell_type": "code",
   "execution_count": 7,
   "metadata": {},
   "outputs": [
    {
     "data": {
      "image/png": "[encoded data removed]",
      "text/plain": [
       "<Figure size 432x288 with 1 Axes>"
      ]
     },
     "metadata": {},
     "output_type": "display_data"
    }
   ],
   "source": [
    "# Accuracy\n",
    "plt.plot(history.history['accuracy'])\n",
    "plt.plot(history.history['val_accuracy'])\n",
    "plt.title('model accuracy')\n",
    "plt.ylabel('accuracy')\n",
    "plt.xlabel('epoch')\n",
    "plt.legend(['acc', 'val_acc'], loc='upper left')\n",
    "plt.show()"
   ]
  },
  {
   "cell_type": "markdown",
   "metadata": {},
   "source": [
    "## Setting up a data augmentation configuration via ImageDataGenerator"
   ]
  },
  {
   "cell_type": "code",
   "execution_count": 8,
   "metadata": {},
   "outputs": [],
   "source": [
    "datagen = ImageDataGenerator(\n",
    "    rotation_range=40,\n",
    "    width_shift_range=0.2,\n",
    "    height_shift_range=0.2,\n",
    "    shear_range=0.2,\n",
    "    zoom_range=0.2,\n",
    "    horizontal_flip=True,\n",
    "    fill_mode='nearest')"
   ]
  },
  {
   "cell_type": "code",
   "execution_count": 9,
   "metadata": {},
   "outputs": [],
   "source": [
    "import os, shutil\n",
    "train_cars_dir = 'data/training_set/cars'"
   ]
  },
  {
   "cell_type": "code",
   "execution_count": 10,
   "metadata": {},
   "outputs": [],
   "source": [
    "fnames = [os.path.join(train_cars_dir, fname) for\n",
    "         fname in os.listdir(train_cars_dir)]"
   ]
  },
  {
   "cell_type": "code",
   "execution_count": 11,
   "metadata": {},
   "outputs": [
    {
     "data": {
      "text/plain": [
       "['data/training_set/cars/classic-car-362176__340.jpg',\n",
       " 'data/training_set/cars/car-1506922__340.jpg',\n",
       " 'data/training_set/cars/car-3647352__340.jpg',\n",
       " 'data/training_set/cars/car-1245706__340.jpg',\n",
       " 'data/training_set/cars/bmw-3727172__340.jpg',\n",
       " 'data/training_set/cars/automotive-1846910__340.jpg',\n",
       " 'data/training_set/cars/car-3359874__340.jpg',\n",
       " 'data/training_set/cars/blue-2118528__340.jpg',\n",
       " 'data/training_set/cars/car-1283947__340.jpg',\n",
       " 'data/training_set/cars/aston-2119120__340.jpg',\n",
       " 'data/training_set/cars/auto-1515462__340.jpg',\n",
       " 'data/training_set/cars/auto-2179220__340.jpg',\n",
       " 'data/training_set/cars/auto-383897__340.jpg',\n",
       " 'data/training_set/cars/car-1081742__340.jpg',\n",
       " 'data/training_set/cars/car-604019__340.jpg',\n",
       " 'data/training_set/cars/automobile-1850862__340.jpg',\n",
       " 'data/training_set/cars/buildings-1851246__340.jpg',\n",
       " 'data/training_set/cars/bmw-918408__340.jpg',\n",
       " 'data/training_set/cars/buick-1400243__340.jpg',\n",
       " 'data/training_set/cars/car-1245780__340.jpg',\n",
       " 'data/training_set/cars/car-tire-1031579__340.jpg',\n",
       " 'data/training_set/cars/car-race-438467__340.jpg',\n",
       " 'data/training_set/cars/classic-691043__340.jpg',\n",
       " 'data/training_set/cars/automobile-176989__340.jpg',\n",
       " 'data/training_set/cars/classic-car-1646996__340.jpg',\n",
       " 'data/training_set/cars/aston-2118857__340.jpg',\n",
       " 'data/training_set/cars/automobile-1851299__340.jpg',\n",
       " 'data/training_set/cars/classic-car-574869__340.jpg',\n",
       " 'data/training_set/cars/city-1284508__340.jpg',\n",
       " 'data/training_set/cars/car-139529__340.jpg',\n",
       " 'data/training_set/cars/classic-car-1209334__340.jpg',\n",
       " 'data/training_set/cars/classic-car-584118__340.jpg',\n",
       " 'data/training_set/cars/audi-1151768__340.jpg',\n",
       " 'data/training_set/cars/auto-1327801__340.jpg',\n",
       " 'data/training_set/cars/bmw-m4-3169357__340.jpg',\n",
       " 'data/training_set/cars/asphalt-3679117__340.jpg',\n",
       " 'data/training_set/cars/auto-racing-558089__340.jpg',\n",
       " 'data/training_set/cars/car-172905__340.jpg',\n",
       " 'data/training_set/cars/car-1772797__340.jpg',\n",
       " 'data/training_set/cars/automobile-1838782__340.jpg',\n",
       " 'data/training_set/cars/bmw-768688__340.jpg',\n",
       " 'data/training_set/cars/car-3484527__340.jpg',\n",
       " 'data/training_set/cars/automotive-1838744__340.jpg',\n",
       " 'data/training_set/cars/audi-1890494__340.jpg',\n",
       " 'data/training_set/cars/car-931959__340.jpg',\n",
       " 'data/training_set/cars/automobile-1209732__340.jpg',\n",
       " 'data/training_set/cars/car-2563506__340.jpg',\n",
       " 'data/training_set/cars/all-wheel-drive-299772__340.jpg',\n",
       " 'data/training_set/cars/auto-788747__340.jpg',\n",
       " 'data/training_set/cars/car-1093927__340.jpg',\n",
       " 'data/training_set/cars/car-show-581066__340.jpg',\n",
       " 'data/training_set/cars/car-3687680__340.jpg',\n",
       " 'data/training_set/cars/car-2617392__340.jpg',\n",
       " 'data/training_set/cars/car-1376190__340.jpg',\n",
       " 'data/training_set/cars/car-3628717__340.jpg',\n",
       " 'data/training_set/cars/auto-3302898__340.jpg',\n",
       " 'data/training_set/cars/car-1030820__340.jpg',\n",
       " 'data/training_set/cars/car-171416__340.jpg',\n",
       " 'data/training_set/cars/car-show-581067__340.jpg',\n",
       " 'data/training_set/cars/audi-798530__340.jpg',\n",
       " 'data/training_set/cars/amsterdam-916561__340.jpg',\n",
       " 'data/training_set/cars/car-2444514__340.jpg',\n",
       " 'data/training_set/cars/car-828860__340.jpg',\n",
       " 'data/training_set/cars/black-hills-hot-rod-3675047__340.jpg',\n",
       " 'data/training_set/cars/amg-1880381__340.jpg',\n",
       " 'data/training_set/cars/body-kit-1869892__340.jpg',\n",
       " 'data/training_set/cars/car-1835506__340.jpg',\n",
       " 'data/training_set/cars/car-49278__340.jpg',\n",
       " 'data/training_set/cars/car-984159__340.jpg',\n",
       " 'data/training_set/cars/car-1184860__340.jpg',\n",
       " 'data/training_set/cars/auto-2823855__340.jpg',\n",
       " 'data/training_set/cars/automobile-3729767__340.jpg',\n",
       " 'data/training_set/cars/car-482683__340.jpg',\n",
       " 'data/training_set/cars/car-1209912__340.jpg',\n",
       " 'data/training_set/cars/classic-car-76423__340.jpg',\n",
       " 'data/training_set/cars/cabriolet-3708152__340.jpg',\n",
       " 'data/training_set/cars/automobile-2087749__340.jpg',\n",
       " 'data/training_set/cars/bmw-918407__340.jpg',\n",
       " 'data/training_set/cars/chevrolet-637778__340.jpg',\n",
       " 'data/training_set/cars/auto-1399087__340.jpg']"
      ]
     },
     "execution_count": 11,
     "metadata": {},
     "output_type": "execute_result"
    }
   ],
   "source": [
    "fnames"
   ]
  },
  {
   "cell_type": "code",
   "execution_count": 12,
   "metadata": {},
   "outputs": [],
   "source": [
    "img_path = fnames[3]"
   ]
  },
  {
   "cell_type": "code",
   "execution_count": 13,
   "metadata": {},
   "outputs": [],
   "source": [
    "img = image.load_img(img_path, target_size=(64, 64))"
   ]
  },
  {
   "cell_type": "code",
   "execution_count": 14,
   "metadata": {},
   "outputs": [
    {
     "data": {
      "image/png": "[encoded data removed]",
      "text/plain": [
       "<PIL.Image.Image image mode=RGB size=64x64 at 0x7F9672556C88>"
      ]
     },
     "execution_count": 14,
     "metadata": {},
     "output_type": "execute_result"
    }
   ],
   "source": [
    "img"
   ]
  },
  {
   "cell_type": "code",
   "execution_count": 15,
   "metadata": {},
   "outputs": [
    {
     "data": {
      "text/plain": [
       "array([[[[203., 206., 221.],\n",
       "         [208., 212., 224.],\n",
       "         [212., 216., 227.],\n",
       "         ...,\n",
       "         [220., 223., 232.],\n",
       "         [218., 221., 230.],\n",
       "         [215., 217., 229.]],\n",
       "\n",
       "        [[205., 208., 223.],\n",
       "         [210., 214., 226.],\n",
       "         [215., 219., 230.],\n",
       "         ...,\n",
       "         [220., 223., 232.],\n",
       "         [219., 222., 231.],\n",
       "         [216., 218., 230.]],\n",
       "\n",
       "        [[208., 212., 224.],\n",
       "         [213., 217., 228.],\n",
       "         [216., 220., 231.],\n",
       "         ...,\n",
       "         [219., 222., 231.],\n",
       "         [219., 222., 231.],\n",
       "         [216., 218., 230.]],\n",
       "\n",
       "        ...,\n",
       "\n",
       "        [[122., 111., 128.],\n",
       "         [132., 121., 138.],\n",
       "         [136., 128., 143.],\n",
       "         ...,\n",
       "         [ 31.,  29.,  34.],\n",
       "         [ 44.,  41.,  48.],\n",
       "         [ 46.,  43.,  54.]],\n",
       "\n",
       "        [[135., 124., 141.],\n",
       "         [134., 123., 140.],\n",
       "         [136., 125., 141.],\n",
       "         ...,\n",
       "         [ 31.,  26.,  30.],\n",
       "         [ 39.,  37.,  40.],\n",
       "         [ 26.,  21.,  27.]],\n",
       "\n",
       "        [[204., 200., 215.],\n",
       "         [206., 202., 217.],\n",
       "         [204., 202., 215.],\n",
       "         ...,\n",
       "         [202., 193., 210.],\n",
       "         [199., 191., 206.],\n",
       "         [185., 177., 192.]]]], dtype=float32)"
      ]
     },
     "execution_count": 15,
     "metadata": {},
     "output_type": "execute_result"
    }
   ],
   "source": [
    "x = image.img_to_array(img)\n",
    "x = x.reshape((1,) + x.shape)\n",
    "x"
   ]
  },
  {
   "cell_type": "code",
   "execution_count": 16,
   "metadata": {},
   "outputs": [
    {
     "data": {
      "image/png": "[encoded data removed]",
      "text/plain": [
       "<Figure size 432x288 with 1 Axes>"
      ]
     },
     "metadata": {},
     "output_type": "display_data"
    },
    {
     "data": {
      "image/png": "[encoded data removed]",
      "text/plain": [
       "<Figure size 432x288 with 1 Axes>"
      ]
     },
     "metadata": {},
     "output_type": "display_data"
    },
    {
     "data": {
      "image/png": "[encoded data removed]",
      "text/plain": [
       "<Figure size 432x288 with 1 Axes>"
      ]
     },
     "metadata": {},
     "output_type": "display_data"
    },
    {
     "data": {
      "image/png": "[encoded data removed]",
      "text/plain": [
       "<Figure size 432x288 with 1 Axes>"
      ]
     },
     "metadata": {},
     "output_type": "display_data"
    }
   ],
   "source": [
    "# Remixing existing information\n",
    "\n",
    "i = 0\n",
    "for batch in datagen.flow(x, batch_size=1):\n",
    "    plt.figure(i)\n",
    "    imgplot = plt.imshow(image.array_to_img(batch[0]))\n",
    "    i += 1\n",
    "    if i % 4 == 0:\n",
    "        break\n",
    "\n",
    "plt.show()"
   ]
  },
  {
   "cell_type": "markdown",
   "metadata": {},
   "source": [
    "### Trainable attribute set to False in order to freeze the convolutional base - this is done to prevent weights from updating during training"
   ]
  },
  {
   "cell_type": "code",
   "execution_count": 17,
   "metadata": {},
   "outputs": [
    {
     "name": "stdout",
     "output_type": "stream",
     "text": [
      "Downloading data from https://github.com/fchollet/deep-learning-models/releases/download/v0.1/vgg16_weights_tf_dim_ordering_tf_kernels_notop.h5\n",
      "58892288/58889256 [==============================] - 1s 0us/step\n"
     ]
    }
   ],
   "source": [
    "from tensorflow.keras.applications import VGG16\n",
    "\n",
    "conv_base = VGG16(weights='imagenet',\n",
    "                  include_top=False,\n",
    "                  input_shape=(64,64,3))\n",
    "\n",
    "conv_base.trainable=False"
   ]
  },
  {
   "cell_type": "code",
   "execution_count": 18,
   "metadata": {},
   "outputs": [
    {
     "name": "stdout",
     "output_type": "stream",
     "text": [
      "Model: \"vgg16\"\n",
      "_________________________________________________________________\n",
      "Layer (type)                 Output Shape              Param #   \n",
      "=================================================================\n",
      "input_1 (InputLayer)         [(None, 64, 64, 3)]       0         \n",
      "_________________________________________________________________\n",
      "block1_conv1 (Conv2D)        (None, 64, 64, 64)        1792      \n",
      "_________________________________________________________________\n",
      "block1_conv2 (Conv2D)        (None, 64, 64, 64)        36928     \n",
      "_________________________________________________________________\n",
      "block1_pool (MaxPooling2D)   (None, 32, 32, 64)        0         \n",
      "_________________________________________________________________\n",
      "block2_conv1 (Conv2D)        (None, 32, 32, 128)       73856     \n",
      "_________________________________________________________________\n",
      "block2_conv2 (Conv2D)        (None, 32, 32, 128)       147584    \n",
      "_________________________________________________________________\n",
      "block2_pool (MaxPooling2D)   (None, 16, 16, 128)       0         \n",
      "_________________________________________________________________\n",
      "block3_conv1 (Conv2D)        (None, 16, 16, 256)       295168    \n",
      "_________________________________________________________________\n",
      "block3_conv2 (Conv2D)        (None, 16, 16, 256)       590080    \n",
      "_________________________________________________________________\n",
      "block3_conv3 (Conv2D)        (None, 16, 16, 256)       590080    \n",
      "_________________________________________________________________\n",
      "block3_pool (MaxPooling2D)   (None, 8, 8, 256)         0         \n",
      "_________________________________________________________________\n",
      "block4_conv1 (Conv2D)        (None, 8, 8, 512)         1180160   \n",
      "_________________________________________________________________\n",
      "block4_conv2 (Conv2D)        (None, 8, 8, 512)         2359808   \n",
      "_________________________________________________________________\n",
      "block4_conv3 (Conv2D)        (None, 8, 8, 512)         2359808   \n",
      "_________________________________________________________________\n",
      "block4_pool (MaxPooling2D)   (None, 4, 4, 512)         0         \n",
      "_________________________________________________________________\n",
      "block5_conv1 (Conv2D)        (None, 4, 4, 512)         2359808   \n",
      "_________________________________________________________________\n",
      "block5_conv2 (Conv2D)        (None, 4, 4, 512)         2359808   \n",
      "_________________________________________________________________\n",
      "block5_conv3 (Conv2D)        (None, 4, 4, 512)         2359808   \n",
      "_________________________________________________________________\n",
      "block5_pool (MaxPooling2D)   (None, 2, 2, 512)         0         \n",
      "=================================================================\n",
      "Total params: 14,714,688\n",
      "Trainable params: 0\n",
      "Non-trainable params: 14,714,688\n",
      "_________________________________________________________________\n"
     ]
    }
   ],
   "source": [
    "conv_base.summary()"
   ]
  },
  {
   "cell_type": "code",
   "execution_count": 19,
   "metadata": {},
   "outputs": [],
   "source": [
    "model = tf.keras.Sequential()\n",
    "model.add(conv_base)\n",
    "model.add(layers.Flatten())\n",
    "model.add(layers.Dropout(0.5))\n",
    "model.add(layers.Dense(512, activation='relu'))\n",
    "model.add(layers.Dense(1, activation='sigmoid'))"
   ]
  },
  {
   "cell_type": "code",
   "execution_count": 20,
   "metadata": {},
   "outputs": [],
   "source": [
    "from tensorflow.keras import optimizers\n",
    "\n",
    "model.compile(loss='binary_crossentropy',\n",
    "             optimizer=optimizers.RMSprop(lr=1e-4),\n",
    "             metrics=['acc'])"
   ]
  },
  {
   "cell_type": "code",
   "execution_count": 21,
   "metadata": {},
   "outputs": [],
   "source": [
    "train_dir = 'data/training_set'\n",
    "validation_dir = 'data/val_set'"
   ]
  },
  {
   "cell_type": "code",
   "execution_count": 22,
   "metadata": {},
   "outputs": [],
   "source": [
    "train_datagen = ImageDataGenerator(\n",
    "    rescale=1./255,\n",
    "    rotation_range=40,\n",
    "    width_shift_range=0.2,\n",
    "    height_shift_range=0.2,\n",
    "    shear_range=0.2,\n",
    "    zoom_range=0.2,\n",
    "    horizontal_flip=True,)\n",
    "\n",
    "val_datagen = ImageDataGenerator(rescale=1./255)"
   ]
  },
  {
   "cell_type": "code",
   "execution_count": 23,
   "metadata": {},
   "outputs": [
    {
     "name": "stdout",
     "output_type": "stream",
     "text": [
      "Found 160 images belonging to 2 classes.\n",
      "Found 40 images belonging to 2 classes.\n"
     ]
    }
   ],
   "source": [
    "train_generator = train_datagen.flow_from_directory(\n",
    "    train_dir,\n",
    "    target_size=(64, 64),\n",
    "    batch_size=32,\n",
    "    class_mode='binary')\n",
    "\n",
    "validation_generator = val_datagen.flow_from_directory(\n",
    "    validation_dir,\n",
    "    target_size=(64, 64),\n",
    "    batch_size=32,\n",
    "    class_mode='binary')"
   ]
  },
  {
   "cell_type": "code",
   "execution_count": 24,
   "metadata": {},
   "outputs": [
    {
     "name": "stdout",
     "output_type": "stream",
     "text": [
      "Epoch 1/30\n",
      "30/30 [==============================] - 127s 4s/step - loss: 0.4694 - acc: 0.7781 - val_loss: 0.4892 - val_acc: 0.7500\n",
      "Epoch 2/30\n",
      "30/30 [==============================] - 51s 2s/step - loss: 0.3281 - acc: 0.8719 - val_loss: 0.4667 - val_acc: 0.8000\n",
      "Epoch 3/30\n",
      "30/30 [==============================] - 213s 7s/step - loss: 0.2677 - acc: 0.8990 - val_loss: 0.4528 - val_acc: 0.8250\n",
      "Epoch 4/30\n",
      "30/30 [==============================] - 67s 2s/step - loss: 0.2401 - acc: 0.9062 - val_loss: 0.4275 - val_acc: 0.8000\n",
      "Epoch 5/30\n",
      "30/30 [==============================] - 187s 6s/step - loss: 0.2332 - acc: 0.9156 - val_loss: 0.4018 - val_acc: 0.8000\n",
      "Epoch 6/30\n",
      "30/30 [==============================] - 105s 4s/step - loss: 0.2034 - acc: 0.9219 - val_loss: 0.3697 - val_acc: 0.8000\n",
      "Epoch 7/30\n",
      "30/30 [==============================] - 151s 5s/step - loss: 0.1969 - acc: 0.9219 - val_loss: 0.3576 - val_acc: 0.8250\n",
      "Epoch 8/30\n",
      "30/30 [==============================] - 140s 5s/step - loss: 0.1914 - acc: 0.9260 - val_loss: 0.3500 - val_acc: 0.8500\n",
      "Epoch 9/30\n",
      "30/30 [==============================] - 109s 4s/step - loss: 0.1874 - acc: 0.9198 - val_loss: 0.3497 - val_acc: 0.8500\n",
      "Epoch 10/30\n",
      "30/30 [==============================] - 182s 6s/step - loss: 0.1855 - acc: 0.9260 - val_loss: 0.3343 - val_acc: 0.8250\n",
      "Epoch 11/30\n",
      "30/30 [==============================] - 76s 3s/step - loss: 0.1802 - acc: 0.9260 - val_loss: 0.3485 - val_acc: 0.8250\n",
      "Epoch 12/30\n",
      "30/30 [==============================] - 211s 7s/step - loss: 0.1535 - acc: 0.9417 - val_loss: 0.3016 - val_acc: 0.8500\n",
      "Epoch 13/30\n",
      "30/30 [==============================] - 57s 2s/step - loss: 0.1533 - acc: 0.9406 - val_loss: 0.2893 - val_acc: 0.8750\n",
      "Epoch 14/30\n",
      "30/30 [==============================] - 211s 7s/step - loss: 0.1487 - acc: 0.9406 - val_loss: 0.2800 - val_acc: 0.8500\n",
      "Epoch 15/30\n",
      "30/30 [==============================] - 72s 2s/step - loss: 0.1507 - acc: 0.9385 - val_loss: 0.3054 - val_acc: 0.8750\n",
      "Epoch 16/30\n",
      "30/30 [==============================] - 190s 6s/step - loss: 0.1452 - acc: 0.9521 - val_loss: 0.2805 - val_acc: 0.8750\n",
      "Epoch 17/30\n",
      "30/30 [==============================] - 102s 3s/step - loss: 0.1470 - acc: 0.9479 - val_loss: 0.2765 - val_acc: 0.8500\n",
      "Epoch 18/30\n",
      "30/30 [==============================] - 151s 5s/step - loss: 0.1327 - acc: 0.9521 - val_loss: 0.2689 - val_acc: 0.8750\n",
      "Epoch 19/30\n",
      "30/30 [==============================] - 143s 5s/step - loss: 0.1238 - acc: 0.9510 - val_loss: 0.2690 - val_acc: 0.8750\n",
      "Epoch 20/30\n",
      "30/30 [==============================] - 159s 5s/step - loss: 0.1131 - acc: 0.9583 - val_loss: 0.2402 - val_acc: 0.8750\n",
      "Epoch 21/30\n",
      "30/30 [==============================] - 141s 5s/step - loss: 0.1314 - acc: 0.9510 - val_loss: 0.2869 - val_acc: 0.8500\n",
      "Epoch 22/30\n",
      "30/30 [==============================] - 156s 5s/step - loss: 0.1250 - acc: 0.9563 - val_loss: 0.2449 - val_acc: 0.8750\n",
      "Epoch 23/30\n",
      "30/30 [==============================] - 143s 5s/step - loss: 0.1336 - acc: 0.9479 - val_loss: 0.2507 - val_acc: 0.8750\n",
      "Epoch 24/30\n",
      "30/30 [==============================] - 124s 4s/step - loss: 0.1212 - acc: 0.9521 - val_loss: 0.2621 - val_acc: 0.8750\n",
      "Epoch 25/30\n",
      "30/30 [==============================] - 170s 6s/step - loss: 0.1183 - acc: 0.9552 - val_loss: 0.2633 - val_acc: 0.8750\n",
      "Epoch 26/30\n",
      "30/30 [==============================] - 93s 3s/step - loss: 0.1198 - acc: 0.9521 - val_loss: 0.2745 - val_acc: 0.8750\n",
      "Epoch 27/30\n",
      "30/30 [==============================] - 201s 7s/step - loss: 0.1371 - acc: 0.9427 - val_loss: 0.2768 - val_acc: 0.8750\n",
      "Epoch 28/30\n",
      "30/30 [==============================] - 86s 3s/step - loss: 0.1251 - acc: 0.9531 - val_loss: 0.2739 - val_acc: 0.9000\n",
      "Epoch 29/30\n",
      "30/30 [==============================] - 210s 7s/step - loss: 0.1309 - acc: 0.9583 - val_loss: 0.2590 - val_acc: 0.8750\n",
      "Epoch 30/30\n",
      "30/30 [==============================] - 51s 2s/step - loss: 0.1165 - acc: 0.9583 - val_loss: 0.2567 - val_acc: 0.8750\n"
     ]
    }
   ],
   "source": [
    "history = model.fit_generator(\n",
    "    train_generator,\n",
    "    steps_per_epoch=30,\n",
    "    epochs=30,\n",
    "    validation_data=validation_generator,\n",
    "    validation_steps=30)"
   ]
  },
  {
   "cell_type": "code",
   "execution_count": 25,
   "metadata": {},
   "outputs": [
    {
     "data": {
      "image/png": "[encoded data removed]",
      "text/plain": [
       "<Figure size 432x288 with 1 Axes>"
      ]
     },
     "metadata": {},
     "output_type": "display_data"
    }
   ],
   "source": [
    "# Loss\n",
    "plt.plot(history.history['loss'])\n",
    "plt.plot(history.history['val_loss'])\n",
    "plt.title('model loss')\n",
    "plt.ylabel('loss')\n",
    "plt.xlabel('epoch')\n",
    "plt.legend(['loss', 'val_loss'], loc='upper left')\n",
    "plt.show()"
   ]
  },
  {
   "cell_type": "code",
   "execution_count": 26,
   "metadata": {},
   "outputs": [
    {
     "data": {
      "image/png": "[encoded data removed]",
      "text/plain": [
       "<Figure size 432x288 with 1 Axes>"
      ]
     },
     "metadata": {},
     "output_type": "display_data"
    }
   ],
   "source": [
    "# Accuracy\n",
    "plt.plot(history.history['acc'])\n",
    "plt.plot(history.history['val_acc'])\n",
    "plt.title('model accuracy')\n",
    "plt.ylabel('accuracy')\n",
    "plt.xlabel('epoch')\n",
    "plt.legend(['acc', 'val_acc'], loc='upper left')\n",
    "plt.show()"
   ]
  },
  {
   "cell_type": "markdown",
   "metadata": {},
   "source": [
    "## Generate predictions"
   ]
  },
  {
   "cell_type": "code",
   "execution_count": 31,
   "metadata": {},
   "outputs": [
    {
     "data": {
      "text/plain": [
       "array([[0.]], dtype=float32)"
      ]
     },
     "execution_count": 31,
     "metadata": {},
     "output_type": "execute_result"
    }
   ],
   "source": [
    "# car = 0, plane = 1\n",
    "\n",
    "# image = plane\n",
    "\n",
    "test_image = \\\n",
    "    image.load_img('data/test/photo-1430402393301-f3b159a7a65a.jpg'\n",
    "                   , target_size=(64, 64))\n",
    "test_image = image.img_to_array(test_image)\n",
    "test_image = np.expand_dims(test_image, axis=0)\n",
    "result = classifier.predict(test_image)\n",
    "training_set.class_indices\n",
    "result"
   ]
  },
  {
   "cell_type": "code",
   "execution_count": 32,
   "metadata": {},
   "outputs": [
    {
     "data": {
      "text/plain": [
       "array([[0.]], dtype=float32)"
      ]
     },
     "execution_count": 32,
     "metadata": {},
     "output_type": "execute_result"
    }
   ],
   "source": [
    "# car = 0, plane = 1\n",
    "\n",
    "# image = car\n",
    "\n",
    "test_image = \\\n",
    "    image.load_img('data/test/photo-1542362567-b07e54358753.jpg'\n",
    "                   , target_size=(64, 64))\n",
    "test_image = image.img_to_array(test_image)\n",
    "test_image = np.expand_dims(test_image, axis=0)\n",
    "result = classifier.predict(test_image)\n",
    "training_set.class_indices\n",
    "result"
   ]
  },
  {
   "cell_type": "code",
   "execution_count": 33,
   "metadata": {},
   "outputs": [
    {
     "data": {
      "text/plain": [
       "array([[0.]], dtype=float32)"
      ]
     },
     "execution_count": 33,
     "metadata": {},
     "output_type": "execute_result"
    }
   ],
   "source": [
    "# car = 0, plane = 1\n",
    "\n",
    "# image = car\n",
    "\n",
    "test_image = \\\n",
    "    image.load_img('data/test/photo-1541443131876-44b03de101c5.jpg'\n",
    "                   , target_size=(64, 64))\n",
    "test_image = image.img_to_array(test_image)\n",
    "test_image = np.expand_dims(test_image, axis=0)\n",
    "result = classifier.predict(test_image)\n",
    "training_set.class_indices\n",
    "result"
   ]
  },
  {
   "cell_type": "code",
   "execution_count": 34,
   "metadata": {},
   "outputs": [
    {
     "data": {
      "text/plain": [
       "array([[0.]], dtype=float32)"
      ]
     },
     "execution_count": 34,
     "metadata": {},
     "output_type": "execute_result"
    }
   ],
   "source": [
    "# car = 0, plane = 1\n",
    "\n",
    "# image = car\n",
    "\n",
    "test_image = \\\n",
    "    image.load_img('data/test/photo-1532974297617-c0f05fe48bff.jpg'\n",
    "                   , target_size=(64, 64))\n",
    "test_image = image.img_to_array(test_image)\n",
    "test_image = np.expand_dims(test_image, axis=0)\n",
    "result = classifier.predict(test_image)\n",
    "training_set.class_indices\n",
    "result"
   ]
  },
  {
   "cell_type": "code",
   "execution_count": 35,
   "metadata": {},
   "outputs": [
    {
     "data": {
      "text/plain": [
       "array([[0.]], dtype=float32)"
      ]
     },
     "execution_count": 35,
     "metadata": {},
     "output_type": "execute_result"
    }
   ],
   "source": [
    "# car = 0, plane = 1\n",
    "\n",
    "# image = car\n",
    "\n",
    "test_image = \\\n",
    "    image.load_img('data/test/photo-1520340356584-f9917d1eea6f.jpg'\n",
    "                   , target_size=(64, 64))\n",
    "test_image = image.img_to_array(test_image)\n",
    "test_image = np.expand_dims(test_image, axis=0)\n",
    "result = classifier.predict(test_image)\n",
    "training_set.class_indices\n",
    "result"
   ]
  },
  {
   "cell_type": "code",
   "execution_count": 36,
   "metadata": {},
   "outputs": [
    {
     "data": {
      "text/plain": [
       "array([[0.]], dtype=float32)"
      ]
     },
     "execution_count": 36,
     "metadata": {},
     "output_type": "execute_result"
    }
   ],
   "source": [
    "# car = 0, plane = 1\n",
    "\n",
    "# image = car\n",
    "\n",
    "test_image = \\\n",
    "    image.load_img('data/test/photo-1519641471654-76ce0107ad1b.jpg'\n",
    "                   , target_size=(64, 64))\n",
    "test_image = image.img_to_array(test_image)\n",
    "test_image = np.expand_dims(test_image, axis=0)\n",
    "result = classifier.predict(test_image)\n",
    "training_set.class_indices\n",
    "result"
   ]
  },
  {
   "cell_type": "code",
   "execution_count": 37,
   "metadata": {},
   "outputs": [
    {
     "data": {
      "text/plain": [
       "array([[1.]], dtype=float32)"
      ]
     },
     "execution_count": 37,
     "metadata": {},
     "output_type": "execute_result"
    }
   ],
   "source": [
    "# car = 0, plane = 1\n",
    "\n",
    "# image = plane\n",
    "\n",
    "test_image = \\\n",
    "    image.load_img('data/test/photo-1512289984044-071903207f5e.jpg'\n",
    "                   , target_size=(64, 64))\n",
    "test_image = image.img_to_array(test_image)\n",
    "test_image = np.expand_dims(test_image, axis=0)\n",
    "result = classifier.predict(test_image)\n",
    "training_set.class_indices\n",
    "result"
   ]
  },
  {
   "cell_type": "code",
   "execution_count": 38,
   "metadata": {},
   "outputs": [
    {
     "data": {
      "text/plain": [
       "array([[0.]], dtype=float32)"
      ]
     },
     "execution_count": 38,
     "metadata": {},
     "output_type": "execute_result"
    }
   ],
   "source": [
    "# car = 0, plane = 1\n",
    "\n",
    "# image = car\n",
    "\n",
    "test_image = \\\n",
    "    image.load_img('data/test/photo-1511919884226-fd3cad34687c.jpg'\n",
    "                   , target_size=(64, 64))\n",
    "test_image = image.img_to_array(test_image)\n",
    "test_image = np.expand_dims(test_image, axis=0)\n",
    "result = classifier.predict(test_image)\n",
    "training_set.class_indices\n",
    "result"
   ]
  },
  {
   "cell_type": "code",
   "execution_count": 39,
   "metadata": {},
   "outputs": [
    {
     "data": {
      "text/plain": [
       "array([[0.]], dtype=float32)"
      ]
     },
     "execution_count": 39,
     "metadata": {},
     "output_type": "execute_result"
    }
   ],
   "source": [
    "# car = 0, plane = 1\n",
    "\n",
    "# image = car\n",
    "\n",
    "test_image = \\\n",
    "    image.load_img('data/test/photo-1502877338535-766e1452684a.jpg'\n",
    "                   , target_size=(64, 64))\n",
    "test_image = image.img_to_array(test_image)\n",
    "test_image = np.expand_dims(test_image, axis=0)\n",
    "result = classifier.predict(test_image)\n",
    "training_set.class_indices\n",
    "result"
   ]
  },
  {
   "cell_type": "code",
   "execution_count": 40,
   "metadata": {},
   "outputs": [
    {
     "data": {
      "text/plain": [
       "array([[1.]], dtype=float32)"
      ]
     },
     "execution_count": 40,
     "metadata": {},
     "output_type": "execute_result"
    }
   ],
   "source": [
    "# car = 0, plane = 1\n",
    "\n",
    "# image = plane\n",
    "\n",
    "test_image = \\\n",
    "    image.load_img('data/test/photo-1498423281417-af8aff4579dc.jpg'\n",
    "                   , target_size=(64, 64))\n",
    "test_image = image.img_to_array(test_image)\n",
    "test_image = np.expand_dims(test_image, axis=0)\n",
    "result = classifier.predict(test_image)\n",
    "training_set.class_indices\n",
    "result"
   ]
  },
  {
   "cell_type": "code",
   "execution_count": 41,
   "metadata": {},
   "outputs": [
    {
     "data": {
      "text/plain": [
       "array([[0.]], dtype=float32)"
      ]
     },
     "execution_count": 41,
     "metadata": {},
     "output_type": "execute_result"
    }
   ],
   "source": [
    "# car = 0, plane = 1\n",
    "\n",
    "# image = car\n",
    "\n",
    "test_image = \\\n",
    "    image.load_img('data/test/photo-1494905998402-395d579af36f.jpg'\n",
    "                   , target_size=(64, 64))\n",
    "test_image = image.img_to_array(test_image)\n",
    "test_image = np.expand_dims(test_image, axis=0)\n",
    "result = classifier.predict(test_image)\n",
    "training_set.class_indices\n",
    "result"
   ]
  },
  {
   "cell_type": "code",
   "execution_count": 42,
   "metadata": {},
   "outputs": [
    {
     "data": {
      "text/plain": [
       "array([[0.]], dtype=float32)"
      ]
     },
     "execution_count": 42,
     "metadata": {},
     "output_type": "execute_result"
    }
   ],
   "source": [
    "# car = 0, plane = 1\n",
    "\n",
    "# image = car\n",
    "\n",
    "test_image = \\\n",
    "    image.load_img('data/test/photo-1489824904134-891ab64532f1.jpg'\n",
    "                   , target_size=(64, 64))\n",
    "test_image = image.img_to_array(test_image)\n",
    "test_image = np.expand_dims(test_image, axis=0)\n",
    "result = classifier.predict(test_image)\n",
    "training_set.class_indices\n",
    "result"
   ]
  },
  {
   "cell_type": "code",
   "execution_count": 43,
   "metadata": {},
   "outputs": [
    {
     "data": {
      "text/plain": [
       "array([[1.]], dtype=float32)"
      ]
     },
     "execution_count": 43,
     "metadata": {},
     "output_type": "execute_result"
    }
   ],
   "source": [
    "# car = 0, plane = 1\n",
    "\n",
    "# image = plane\n",
    "\n",
    "test_image = \\\n",
    "    image.load_img('data/test/photo-1483375801503-374c5f660610.jpg'\n",
    "                   , target_size=(64, 64))\n",
    "test_image = image.img_to_array(test_image)\n",
    "test_image = np.expand_dims(test_image, axis=0)\n",
    "result = classifier.predict(test_image)\n",
    "training_set.class_indices\n",
    "result"
   ]
  },
  {
   "cell_type": "code",
   "execution_count": 44,
   "metadata": {},
   "outputs": [
    {
     "data": {
      "text/plain": [
       "array([[1.]], dtype=float32)"
      ]
     },
     "execution_count": 44,
     "metadata": {},
     "output_type": "execute_result"
    }
   ],
   "source": [
    "# car = 0, plane = 1\n",
    "\n",
    "# image = plane\n",
    "\n",
    "test_image = \\\n",
    "    image.load_img('data/test/photo-1475088092121-b7d3cd6e1482.jpg'\n",
    "                   , target_size=(64, 64))\n",
    "test_image = image.img_to_array(test_image)\n",
    "test_image = np.expand_dims(test_image, axis=0)\n",
    "result = classifier.predict(test_image)\n",
    "training_set.class_indices\n",
    "result"
   ]
  },
  {
   "cell_type": "code",
   "execution_count": 45,
   "metadata": {},
   "outputs": [
    {
     "data": {
      "text/plain": [
       "array([[1.]], dtype=float32)"
      ]
     },
     "execution_count": 45,
     "metadata": {},
     "output_type": "execute_result"
    }
   ],
   "source": [
    "# car = 0, plane = 1\n",
    "\n",
    "# image = plane\n",
    "\n",
    "test_image = \\\n",
    "    image.load_img('data/test/photo-1473862170180-84427c485aca.jpg'\n",
    "                   , target_size=(64, 64))\n",
    "test_image = image.img_to_array(test_image)\n",
    "test_image = np.expand_dims(test_image, axis=0)\n",
    "result = classifier.predict(test_image)\n",
    "training_set.class_indices\n",
    "result"
   ]
  }
 ],
 "metadata": {
  "kernelspec": {
   "display_name": "Python 3",
   "language": "python",
   "name": "python3"
  },
  "language_info": {
   "codemirror_mode": {
    "name": "ipython",
    "version": 3
   },
   "file_extension": ".py",
   "mimetype": "text/x-python",
   "name": "python",
   "nbconvert_exporter": "python",
   "pygments_lexer": "ipython3",
   "version": "3.7.7"
  }
 },
 "nbformat": 4,
 "nbformat_minor": 2
}
